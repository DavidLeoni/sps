{
 "cells": [
  {
   "cell_type": "markdown",
   "metadata": {},
   "source": [
    "# Esame Lun 31, Mag 2021 - A e B\n",
    "\n",
    "**Seminari Python @Sociologia, Università di Trento**\n",
    "\n",
    "## [Scarica](../../../_static/generated/sps-2021-05-31-exam.zip) esercizi e soluzioni"
   ]
  },
  {
   "cell_type": "markdown",
   "metadata": {},
   "source": [
    "## Modulo A"
   ]
  },
  {
   "cell_type": "markdown",
   "metadata": {},
   "source": [
    "## A1 babbà\n",
    "\n",
    "✪✪ Scrivi del codice che data una lettera `cerca` da trovare e una `frase`, produce una lista con tutte le parole contenti quella lettera"
   ]
  },
  {
   "cell_type": "raw",
   "id": "9ece0038",
   "metadata": {
    "format": "text/html"
   },
   "source": [
    "<a  class=\"jupman-sol jupman-sol-toggler\" \n",
    " onclick=\"jupman.toggleSolution(this);\" \n",
    " data-jupman-show=\"Mostra soluzione\" data-jupman-hide=\"Nascondi\">Mostra soluzione</a><div class=\"jupman-sol jupman-sol-code\" style=\"display:none\">  "
   ]
  },
  {
   "cell_type": "code",
   "execution_count": 1,
   "metadata": {},
   "outputs": [
    {
     "name": "stdout",
     "output_type": "stream",
     "text": [
      "['città', 'babbà']\n"
     ]
    }
   ],
   "source": [
    "\n",
    "cerca = 'à'   # ['città', 'babbà']\n",
    "#cerca = 'è'  # ['è', 'bignè', 'caffè']\n",
    "\n",
    "frase = \"Questa città è piena di babbà , bignè e caffè\"\n",
    "\n",
    "# scrivi qui\n",
    "\n",
    "res = []\n",
    "for parola in frase.split():\n",
    "    if cerca in parola:\n",
    "        res.append(parola)\n",
    "print(res)        "
   ]
  },
  {
   "cell_type": "raw",
   "id": "7198ad26",
   "metadata": {
    "format": "text/html"
   },
   "source": [
    "</div>"
   ]
  },
  {
   "cell_type": "code",
   "execution_count": 1,
   "metadata": {},
   "outputs": [],
   "source": [
    "\n",
    "cerca = 'à'   # ['città', 'babbà']\n",
    "#cerca = 'è'  # ['è', 'bignè', 'caffè']\n",
    "\n",
    "frase = \"Questa città è piena di babbà , bignè e caffè\"\n",
    "\n",
    "# scrivi qui\n",
    "\n"
   ]
  },
  {
   "cell_type": "markdown",
   "metadata": {},
   "source": [
    "## A2 Il Tempio della Fortuna\n",
    "\n",
    "✪✪ Esplorando il Tempio della Fortuna, hai trovato delle pietre preziose ciascuna con un  numero sacro scavato sopra di essa. Sei tentato di prenderle tutte, ma un messaggio sopra le pietre avverte minaccioso che solo gli stolti prendono i numeri senza prima aver consultato l'Oracolo.\n",
    "\n",
    "A fianco trovi la statua di un Buddha a gambe incrociate che tiene un vassoio con delle cavità in sequenza - qualche cavità ha un fagiolo, altri sono vuote.\n",
    "\n",
    "Date una lista `pietre` di numeri e una `oracolo` di booleani, scrivi del codice che MODIFICA la lista `sacca` mettendoci dentro solo i numeri di `pietre` per cui c'è un `True` alla corrispondente posizione di `oracolo`\n",
    "\n",
    "* assumi che entrambe le liste abbiano esattamente le stesse dimensioni\n",
    "\n",
    "Esempio - dati:"
   ]
  },
  {
   "cell_type": "code",
   "execution_count": 2,
   "metadata": {},
   "outputs": [],
   "source": [
    "pietre  = [9,    7,     6,    8,    7]   \n",
    "oracolo = [True, False, True, True, False]"
   ]
  },
  {
   "cell_type": "markdown",
   "metadata": {},
   "source": [
    "Dopo il tuo codice deve risultare:\n",
    "\n",
    "```python\n",
    ">>> print(sacca)\n",
    "[9, 6, 8]\n",
    "```"
   ]
  },
  {
   "cell_type": "raw",
   "id": "b5083d4a",
   "metadata": {
    "format": "text/html"
   },
   "source": [
    "<a  class=\"jupman-sol jupman-sol-toggler\" \n",
    " onclick=\"jupman.toggleSolution(this);\" \n",
    " data-jupman-show=\"Mostra soluzione\" data-jupman-hide=\"Nascondi\">Mostra soluzione</a><div class=\"jupman-sol jupman-sol-code\" style=\"display:none\">  "
   ]
  },
  {
   "cell_type": "code",
   "execution_count": 3,
   "metadata": {},
   "outputs": [
    {
     "name": "stdout",
     "output_type": "stream",
     "text": [
      "[9, 6, 8]\n"
     ]
    }
   ],
   "source": [
    "\n",
    "pietre,oracolo = [9,7,6,8,7], [True, False, True, True, False]   # [9, 6, 8]\n",
    "#pietre,oracolo = [3,5,2,3,4,2,4], [True, True, False, True, False, True, False]  # [3,5,3,2]\n",
    "sacca = []\n",
    "\n",
    "# scrivi qui\n",
    "\n",
    "for i in range(len(pietre)):\n",
    "    if oracolo[i]:\n",
    "        sacca.append(pietre[i])\n",
    "        \n",
    "print(sacca)"
   ]
  },
  {
   "cell_type": "raw",
   "id": "96dc8ffd",
   "metadata": {
    "format": "text/html"
   },
   "source": [
    "</div>"
   ]
  },
  {
   "cell_type": "code",
   "execution_count": 3,
   "metadata": {},
   "outputs": [],
   "source": [
    "\n",
    "pietre,oracolo = [9,7,6,8,7], [True, False, True, True, False]   # [9, 6, 8]\n",
    "#pietre,oracolo = [3,5,2,3,4,2,4], [True, True, False, True, False, True, False]  # [3,5,3,2]\n",
    "sacca = []\n",
    "\n",
    "# scrivi qui\n",
    "\n"
   ]
  },
  {
   "cell_type": "markdown",
   "metadata": {},
   "source": [
    "## A3 rospo \n",
    "\n",
    "✪✪ Dato  una stringa `parola` e una stringa `ripetizioni` contenente solo cifre, metti nella variabile `risultato` una stringa contenente tutte le lettere di `parola` ripetute per il numero di volte indicato alla posizione corrispondente in `ripetizioni`"
   ]
  },
  {
   "cell_type": "raw",
   "id": "8002254a",
   "metadata": {
    "format": "text/html"
   },
   "source": [
    "<a  class=\"jupman-sol jupman-sol-toggler\" \n",
    " onclick=\"jupman.toggleSolution(this);\" \n",
    " data-jupman-show=\"Mostra soluzione\" data-jupman-hide=\"Nascondi\">Mostra soluzione</a><div class=\"jupman-sol jupman-sol-code\" style=\"display:none\">  "
   ]
  },
  {
   "cell_type": "code",
   "execution_count": 4,
   "metadata": {},
   "outputs": [
    {
     "name": "stdout",
     "output_type": "stream",
     "text": [
      "roooosssppooo\n"
     ]
    }
   ],
   "source": [
    "\n",
    "parola, ripetizioni = \"rospo\", \"14323\"      # 'roooosssppooo'\n",
    "#parola, ripetizioni = \"artificio\", \"144232312\"  # 'arrrrttttiifffiicccioo'\n",
    "\n",
    "# scrivi qui\n",
    "res = []\n",
    "\n",
    "for i in range(len(parola)):\n",
    "    res.append(parola[i]*int(ripetizioni[i]))\n",
    "    \n",
    "risultato = \"\".join(res)\n",
    "print(risultato)"
   ]
  },
  {
   "cell_type": "raw",
   "id": "d346b50c",
   "metadata": {
    "format": "text/html"
   },
   "source": [
    "</div>"
   ]
  },
  {
   "cell_type": "code",
   "execution_count": 4,
   "metadata": {},
   "outputs": [],
   "source": [
    "\n",
    "parola, ripetizioni = \"rospo\", \"14323\"      # 'roooosssppooo'\n",
    "#parola, ripetizioni = \"artificio\", \"144232312\"  # 'arrrrttttiifffiicccioo'\n",
    "\n",
    "# scrivi qui\n",
    "\n"
   ]
  },
  {
   "cell_type": "markdown",
   "metadata": {},
   "source": [
    "## A4 miniera\n",
    "\n",
    "✪✪ Dato un dizionario `miniera` che associa chiavi a numeri, MODIFICA il dizionario `estratto` associando le stesse chiavi di `miniera` a liste con le chiavi ripetute il numero di volte indicato.\n",
    "\n",
    "Esempio - dato \n",
    "\n",
    "```python\n",
    "miniera = {'ottone': 5,\n",
    "           'rame'  : 8,\n",
    "           'ferro' : 1}\n",
    "estratto = {}\n",
    "```\n",
    "\n",
    "dopo il tuo codice deve risultare\n",
    "\n",
    "```python\n",
    ">>> print(estratto)\n",
    "{'ottone': ['ottone', 'ottone', 'ottone', 'ottone', 'ottone'],\n",
    " 'rame'  : ['rame', 'rame', 'rame', 'rame', 'rame', 'rame', 'rame', 'rame'],\n",
    " 'ferro' : ['ferro']}\n",
    "```"
   ]
  },
  {
   "cell_type": "raw",
   "id": "abb797c7",
   "metadata": {
    "format": "text/html"
   },
   "source": [
    "<a  class=\"jupman-sol jupman-sol-toggler\" \n",
    " onclick=\"jupman.toggleSolution(this);\" \n",
    " data-jupman-show=\"Mostra soluzione\" data-jupman-hide=\"Nascondi\">Mostra soluzione</a><div class=\"jupman-sol jupman-sol-code\" style=\"display:none\">  "
   ]
  },
  {
   "cell_type": "code",
   "execution_count": 5,
   "metadata": {},
   "outputs": [
    {
     "data": {
      "text/plain": [
       "{'ottone': ['ottone', 'ottone', 'ottone', 'ottone', 'ottone'],\n",
       " 'rame': ['rame', 'rame', 'rame', 'rame', 'rame', 'rame', 'rame', 'rame'],\n",
       " 'ferro': ['ferro']}"
      ]
     },
     "execution_count": 5,
     "metadata": {},
     "output_type": "execute_result"
    }
   ],
   "source": [
    "\n",
    "miniera = {'ottone' : 5,\n",
    "           'rame' : 8,\n",
    "           'ferro' : 1}\n",
    "\n",
    "estratto = {}\n",
    "\n",
    "# scrivi qui\n",
    "\n",
    "for chiave in miniera:\n",
    "    estratto[chiave] = [chiave] * miniera[chiave]\n",
    "\n",
    "estratto"
   ]
  },
  {
   "cell_type": "raw",
   "id": "db6dbb27",
   "metadata": {
    "format": "text/html"
   },
   "source": [
    "</div>"
   ]
  },
  {
   "cell_type": "code",
   "execution_count": 5,
   "metadata": {},
   "outputs": [],
   "source": [
    "\n",
    "miniera = {'ottone' : 5,\n",
    "           'rame' : 8,\n",
    "           'ferro' : 1}\n",
    "\n",
    "estratto = {}\n",
    "\n",
    "# scrivi qui\n",
    "\n"
   ]
  },
  {
   "cell_type": "markdown",
   "metadata": {},
   "source": [
    "## Modulo B"
   ]
  },
  {
   "cell_type": "markdown",
   "metadata": {},
   "source": [
    "## B1 Strutture sanitarie\n",
    "\n",
    "✪✪ Scrivere una funzione che apre il dataset [SANSTRUT001.csv](SANSTRUT001.csv) **con pandas** (encoding UTF-8) e prende in input un codice comune e una stringa di testo, e RITORNA un dataframe con selezionate solo le righe aventi quel codice comune e che contengono la stringa nella colonna `ASSISTENZA`. Il dataset ritornato deve avere solo le colonne `STRUTTURA`, `ASSISTENZA`, `COD_COMUNE`, `COMUNE`. La funzione STAMPA anche il numero di righe trovate.\n",
    "\n",
    "Fonte dati: [dati.trentino.it](https://dati.trentino.it/dataset/strutture-sanitarie-dell-azienda-sanitaria-e-convenzionate)"
   ]
  },
  {
   "cell_type": "raw",
   "id": "4426129c",
   "metadata": {
    "format": "text/html"
   },
   "source": [
    "<a  class=\"jupman-sol jupman-sol-toggler\" \n",
    " onclick=\"jupman.toggleSolution(this);\" \n",
    " data-jupman-show=\"Mostra soluzione\" data-jupman-hide=\"Nascondi\">Mostra soluzione</a><div class=\"jupman-sol jupman-sol-code\" style=\"display:none\">  "
   ]
  },
  {
   "cell_type": "code",
   "execution_count": 6,
   "metadata": {
    "scrolled": false
   },
   "outputs": [],
   "source": [
    "import pandas as pd   \n",
    "import numpy as np    \n",
    "\n",
    "def strutsan(cod_comune, assistenza):\n",
    "    \n",
    "    print('***** SOLUZIONE')    \n",
    "    df = pd.read_csv('SANSTRUT001.csv', encoding='UTF-8')    \n",
    "    res = df[((df['COD_COMUNE'] == cod_comune) & df['ASSISTENZA'].str.contains(assistenza))]    \n",
    "    \n",
    "    print(\"Trovate\", res.shape[0], \"strutture\")\n",
    "    return res[ ['STRUTTURA', 'ASSISTENZA', 'COD_COMUNE', 'COMUNE']  ]\n",
    "    \n",
    "    "
   ]
  },
  {
   "cell_type": "raw",
   "id": "528c9508",
   "metadata": {
    "format": "text/html"
   },
   "source": [
    "</div>"
   ]
  },
  {
   "cell_type": "code",
   "execution_count": 6,
   "metadata": {
    "scrolled": false
   },
   "outputs": [],
   "source": [
    "import pandas as pd   \n",
    "import numpy as np    \n",
    "\n",
    "def strutsan(cod_comune, assistenza):\n",
    "    raise Exception('TODO IMPLEMENT ME !')\n",
    "    "
   ]
  },
  {
   "cell_type": "code",
   "execution_count": 7,
   "metadata": {},
   "outputs": [
    {
     "name": "stdout",
     "output_type": "stream",
     "text": [
      "***** SOLUZIONE\n",
      "Trovate 6 strutture\n"
     ]
    },
    {
     "data": {
      "text/html": [
       "<div>\n",
       "<style scoped>\n",
       "    .dataframe tbody tr th:only-of-type {\n",
       "        vertical-align: middle;\n",
       "    }\n",
       "\n",
       "    .dataframe tbody tr th {\n",
       "        vertical-align: top;\n",
       "    }\n",
       "\n",
       "    .dataframe thead th {\n",
       "        text-align: right;\n",
       "    }\n",
       "</style>\n",
       "<table border=\"1\" class=\"dataframe\">\n",
       "  <thead>\n",
       "    <tr style=\"text-align: right;\">\n",
       "      <th></th>\n",
       "      <th>STRUTTURA</th>\n",
       "      <th>ASSISTENZA</th>\n",
       "      <th>COD_COMUNE</th>\n",
       "      <th>COMUNE</th>\n",
       "    </tr>\n",
       "  </thead>\n",
       "  <tbody>\n",
       "    <tr>\n",
       "      <th>0</th>\n",
       "      <td>PRESIDIO OSPEDALIERO DI CAVALESE</td>\n",
       "      <td>ATTIVITA` CLINICA</td>\n",
       "      <td>22050</td>\n",
       "      <td>CAVALESE</td>\n",
       "    </tr>\n",
       "    <tr>\n",
       "      <th>1</th>\n",
       "      <td>PRESIDIO OSPEDALIERO DI CAVALESE</td>\n",
       "      <td>DIAGNOSTICA STRUMENTALE E PER IMMAGINI</td>\n",
       "      <td>22050</td>\n",
       "      <td>CAVALESE</td>\n",
       "    </tr>\n",
       "    <tr>\n",
       "      <th>2</th>\n",
       "      <td>PRESIDIO OSPEDALIERO DI CAVALESE</td>\n",
       "      <td>ATTIVITA` DI LABORATORIO</td>\n",
       "      <td>22050</td>\n",
       "      <td>CAVALESE</td>\n",
       "    </tr>\n",
       "    <tr>\n",
       "      <th>3</th>\n",
       "      <td>CENTRO SALUTE MENTALE CAVALESE</td>\n",
       "      <td>ASSISTENZA PSICHIATRICA</td>\n",
       "      <td>22050</td>\n",
       "      <td>CAVALESE</td>\n",
       "    </tr>\n",
       "    <tr>\n",
       "      <th>4</th>\n",
       "      <td>CENTRO DIALISI CAVALESE</td>\n",
       "      <td>ATTIVITA` CLINICA</td>\n",
       "      <td>22050</td>\n",
       "      <td>CAVALESE</td>\n",
       "    </tr>\n",
       "    <tr>\n",
       "      <th>5</th>\n",
       "      <td>CONSULTORIO CAVALESE</td>\n",
       "      <td>ATTIVITA` DI CONSULTORIO MATERNO-INFANTILE</td>\n",
       "      <td>22050</td>\n",
       "      <td>CAVALESE</td>\n",
       "    </tr>\n",
       "  </tbody>\n",
       "</table>\n",
       "</div>"
      ],
      "text/plain": [
       "                          STRUTTURA  \\\n",
       "0  PRESIDIO OSPEDALIERO DI CAVALESE   \n",
       "1  PRESIDIO OSPEDALIERO DI CAVALESE   \n",
       "2  PRESIDIO OSPEDALIERO DI CAVALESE   \n",
       "3    CENTRO SALUTE MENTALE CAVALESE   \n",
       "4           CENTRO DIALISI CAVALESE   \n",
       "5              CONSULTORIO CAVALESE   \n",
       "\n",
       "                                   ASSISTENZA  COD_COMUNE    COMUNE  \n",
       "0                           ATTIVITA` CLINICA       22050  CAVALESE  \n",
       "1      DIAGNOSTICA STRUMENTALE E PER IMMAGINI       22050  CAVALESE  \n",
       "2                    ATTIVITA` DI LABORATORIO       22050  CAVALESE  \n",
       "3                     ASSISTENZA PSICHIATRICA       22050  CAVALESE  \n",
       "4                           ATTIVITA` CLINICA       22050  CAVALESE  \n",
       "5  ATTIVITA` DI CONSULTORIO MATERNO-INFANTILE       22050  CAVALESE  "
      ]
     },
     "execution_count": 7,
     "metadata": {},
     "output_type": "execute_result"
    }
   ],
   "source": [
    "strutsan(22050, '')  # nessun filtro assistenza"
   ]
  },
  {
   "cell_type": "code",
   "execution_count": 8,
   "metadata": {},
   "outputs": [
    {
     "name": "stdout",
     "output_type": "stream",
     "text": [
      "***** SOLUZIONE\n",
      "Trovate 16 strutture\n"
     ]
    },
    {
     "data": {
      "text/html": [
       "<div>\n",
       "<style scoped>\n",
       "    .dataframe tbody tr th:only-of-type {\n",
       "        vertical-align: middle;\n",
       "    }\n",
       "\n",
       "    .dataframe tbody tr th {\n",
       "        vertical-align: top;\n",
       "    }\n",
       "\n",
       "    .dataframe thead th {\n",
       "        text-align: right;\n",
       "    }\n",
       "</style>\n",
       "<table border=\"1\" class=\"dataframe\">\n",
       "  <thead>\n",
       "    <tr style=\"text-align: right;\">\n",
       "      <th></th>\n",
       "      <th>STRUTTURA</th>\n",
       "      <th>ASSISTENZA</th>\n",
       "      <th>COD_COMUNE</th>\n",
       "      <th>COMUNE</th>\n",
       "    </tr>\n",
       "  </thead>\n",
       "  <tbody>\n",
       "    <tr>\n",
       "      <th>59</th>\n",
       "      <td>PRESIDIO OSPEDALIERO S.CHIARA</td>\n",
       "      <td>ATTIVITA` CLINICA</td>\n",
       "      <td>22205</td>\n",
       "      <td>TRENTO</td>\n",
       "    </tr>\n",
       "    <tr>\n",
       "      <th>62</th>\n",
       "      <td>CENTRO DIALISI TRENTO</td>\n",
       "      <td>ATTIVITA` CLINICA</td>\n",
       "      <td>22205</td>\n",
       "      <td>TRENTO</td>\n",
       "    </tr>\n",
       "    <tr>\n",
       "      <th>63</th>\n",
       "      <td>POLIAMBULATORI S.CHIARA</td>\n",
       "      <td>ATTIVITA` CLINICA</td>\n",
       "      <td>22205</td>\n",
       "      <td>TRENTO</td>\n",
       "    </tr>\n",
       "    <tr>\n",
       "      <th>64</th>\n",
       "      <td>PRESIDIO OSPEDALIERO VILLA IGEA</td>\n",
       "      <td>ATTIVITA` CLINICA</td>\n",
       "      <td>22205</td>\n",
       "      <td>TRENTO</td>\n",
       "    </tr>\n",
       "    <tr>\n",
       "      <th>73</th>\n",
       "      <td>OSPEDALE  CLASSIFICATO S.CAMILLO</td>\n",
       "      <td>ATTIVITA` CLINICA</td>\n",
       "      <td>22205</td>\n",
       "      <td>TRENTO</td>\n",
       "    </tr>\n",
       "    <tr>\n",
       "      <th>84</th>\n",
       "      <td>NEUROPSICHIATRIA INFANTILE - UONPI 1</td>\n",
       "      <td>ATTIVITA` CLINICA</td>\n",
       "      <td>22205</td>\n",
       "      <td>TRENTO</td>\n",
       "    </tr>\n",
       "    <tr>\n",
       "      <th>87</th>\n",
       "      <td>CASA DI CURA VILLA BIANCA SPA</td>\n",
       "      <td>ATTIVITA` CLINICA</td>\n",
       "      <td>22205</td>\n",
       "      <td>TRENTO</td>\n",
       "    </tr>\n",
       "    <tr>\n",
       "      <th>90</th>\n",
       "      <td>CENTRO SERVIZI SANITARI</td>\n",
       "      <td>ATTIVITA` CLINICA</td>\n",
       "      <td>22205</td>\n",
       "      <td>TRENTO</td>\n",
       "    </tr>\n",
       "    <tr>\n",
       "      <th>93</th>\n",
       "      <td>PSICOLOGIA CLINICA</td>\n",
       "      <td>ATTIVITA` CLINICA</td>\n",
       "      <td>22205</td>\n",
       "      <td>TRENTO</td>\n",
       "    </tr>\n",
       "    <tr>\n",
       "      <th>122</th>\n",
       "      <td>ASSOCIAZIONE TRENTINA SCLEROSI MULTIPLA, ONLUS</td>\n",
       "      <td>ATTIVITA` CLINICA</td>\n",
       "      <td>22205</td>\n",
       "      <td>TRENTO</td>\n",
       "    </tr>\n",
       "    <tr>\n",
       "      <th>123</th>\n",
       "      <td>ANFFAS TRENTINO ONLUS</td>\n",
       "      <td>ATTIVITA` CLINICA</td>\n",
       "      <td>22205</td>\n",
       "      <td>TRENTO</td>\n",
       "    </tr>\n",
       "    <tr>\n",
       "      <th>124</th>\n",
       "      <td>COOPERATIVA SOCIALE IRIFOR DEL TRENTINO ONLUS</td>\n",
       "      <td>ATTIVITA` CLINICA</td>\n",
       "      <td>22205</td>\n",
       "      <td>TRENTO</td>\n",
       "    </tr>\n",
       "    <tr>\n",
       "      <th>126</th>\n",
       "      <td>AGSAT ASSOCIAZIONE GENITORI SOGGETTI AUTISTICI...</td>\n",
       "      <td>ATTIVITA` CLINICA</td>\n",
       "      <td>22205</td>\n",
       "      <td>TRENTO</td>\n",
       "    </tr>\n",
       "    <tr>\n",
       "      <th>127</th>\n",
       "      <td>AZIENDA PUBBLICA SERVIZI ALLA PERSONA - RSA PO...</td>\n",
       "      <td>ATTIVITA` CLINICA</td>\n",
       "      <td>22205</td>\n",
       "      <td>TRENTO</td>\n",
       "    </tr>\n",
       "    <tr>\n",
       "      <th>130</th>\n",
       "      <td>CST TRENTO</td>\n",
       "      <td>ATTIVITA` CLINICA</td>\n",
       "      <td>22205</td>\n",
       "      <td>TRENTO</td>\n",
       "    </tr>\n",
       "    <tr>\n",
       "      <th>133</th>\n",
       "      <td>A.P.S.P. 'BEATO DE TSCHIDERER' - AMB. LOGO-AUD...</td>\n",
       "      <td>ATTIVITA` CLINICA</td>\n",
       "      <td>22205</td>\n",
       "      <td>TRENTO</td>\n",
       "    </tr>\n",
       "  </tbody>\n",
       "</table>\n",
       "</div>"
      ],
      "text/plain": [
       "                                             STRUTTURA         ASSISTENZA  \\\n",
       "59                       PRESIDIO OSPEDALIERO S.CHIARA  ATTIVITA` CLINICA   \n",
       "62                               CENTRO DIALISI TRENTO  ATTIVITA` CLINICA   \n",
       "63                             POLIAMBULATORI S.CHIARA  ATTIVITA` CLINICA   \n",
       "64                     PRESIDIO OSPEDALIERO VILLA IGEA  ATTIVITA` CLINICA   \n",
       "73                    OSPEDALE  CLASSIFICATO S.CAMILLO  ATTIVITA` CLINICA   \n",
       "84                NEUROPSICHIATRIA INFANTILE - UONPI 1  ATTIVITA` CLINICA   \n",
       "87                       CASA DI CURA VILLA BIANCA SPA  ATTIVITA` CLINICA   \n",
       "90                             CENTRO SERVIZI SANITARI  ATTIVITA` CLINICA   \n",
       "93                                  PSICOLOGIA CLINICA  ATTIVITA` CLINICA   \n",
       "122     ASSOCIAZIONE TRENTINA SCLEROSI MULTIPLA, ONLUS  ATTIVITA` CLINICA   \n",
       "123                              ANFFAS TRENTINO ONLUS  ATTIVITA` CLINICA   \n",
       "124      COOPERATIVA SOCIALE IRIFOR DEL TRENTINO ONLUS  ATTIVITA` CLINICA   \n",
       "126  AGSAT ASSOCIAZIONE GENITORI SOGGETTI AUTISTICI...  ATTIVITA` CLINICA   \n",
       "127  AZIENDA PUBBLICA SERVIZI ALLA PERSONA - RSA PO...  ATTIVITA` CLINICA   \n",
       "130                                         CST TRENTO  ATTIVITA` CLINICA   \n",
       "133  A.P.S.P. 'BEATO DE TSCHIDERER' - AMB. LOGO-AUD...  ATTIVITA` CLINICA   \n",
       "\n",
       "     COD_COMUNE  COMUNE  \n",
       "59        22205  TRENTO  \n",
       "62        22205  TRENTO  \n",
       "63        22205  TRENTO  \n",
       "64        22205  TRENTO  \n",
       "73        22205  TRENTO  \n",
       "84        22205  TRENTO  \n",
       "87        22205  TRENTO  \n",
       "90        22205  TRENTO  \n",
       "93        22205  TRENTO  \n",
       "122       22205  TRENTO  \n",
       "123       22205  TRENTO  \n",
       "124       22205  TRENTO  \n",
       "126       22205  TRENTO  \n",
       "127       22205  TRENTO  \n",
       "130       22205  TRENTO  \n",
       "133       22205  TRENTO  "
      ]
     },
     "execution_count": 8,
     "metadata": {},
     "output_type": "execute_result"
    }
   ],
   "source": [
    "strutsan(22205, 'CLINICA')"
   ]
  },
  {
   "cell_type": "code",
   "execution_count": 9,
   "metadata": {},
   "outputs": [
    {
     "name": "stdout",
     "output_type": "stream",
     "text": [
      "***** SOLUZIONE\n",
      "Trovate 5 strutture\n"
     ]
    },
    {
     "data": {
      "text/html": [
       "<div>\n",
       "<style scoped>\n",
       "    .dataframe tbody tr th:only-of-type {\n",
       "        vertical-align: middle;\n",
       "    }\n",
       "\n",
       "    .dataframe tbody tr th {\n",
       "        vertical-align: top;\n",
       "    }\n",
       "\n",
       "    .dataframe thead th {\n",
       "        text-align: right;\n",
       "    }\n",
       "</style>\n",
       "<table border=\"1\" class=\"dataframe\">\n",
       "  <thead>\n",
       "    <tr style=\"text-align: right;\">\n",
       "      <th></th>\n",
       "      <th>STRUTTURA</th>\n",
       "      <th>ASSISTENZA</th>\n",
       "      <th>COD_COMUNE</th>\n",
       "      <th>COMUNE</th>\n",
       "    </tr>\n",
       "  </thead>\n",
       "  <tbody>\n",
       "    <tr>\n",
       "      <th>61</th>\n",
       "      <td>PRESIDIO OSPEDALIERO S.CHIARA</td>\n",
       "      <td>ATTIVITA` DI LABORATORIO</td>\n",
       "      <td>22205</td>\n",
       "      <td>TRENTO</td>\n",
       "    </tr>\n",
       "    <tr>\n",
       "      <th>85</th>\n",
       "      <td>LABORATORI ADIGE SRL</td>\n",
       "      <td>ATTIVITA` DI LABORATORIO</td>\n",
       "      <td>22205</td>\n",
       "      <td>TRENTO</td>\n",
       "    </tr>\n",
       "    <tr>\n",
       "      <th>86</th>\n",
       "      <td>LABORATORIO DRUSO SRL</td>\n",
       "      <td>ATTIVITA` DI LABORATORIO</td>\n",
       "      <td>22205</td>\n",
       "      <td>TRENTO</td>\n",
       "    </tr>\n",
       "    <tr>\n",
       "      <th>89</th>\n",
       "      <td>CASA DI CURA VILLA BIANCA SPA</td>\n",
       "      <td>ATTIVITA` DI LABORATORIO</td>\n",
       "      <td>22205</td>\n",
       "      <td>TRENTO</td>\n",
       "    </tr>\n",
       "    <tr>\n",
       "      <th>92</th>\n",
       "      <td>CENTRO SERVIZI SANITARI</td>\n",
       "      <td>ATTIVITA` DI LABORATORIO</td>\n",
       "      <td>22205</td>\n",
       "      <td>TRENTO</td>\n",
       "    </tr>\n",
       "  </tbody>\n",
       "</table>\n",
       "</div>"
      ],
      "text/plain": [
       "                        STRUTTURA                ASSISTENZA  COD_COMUNE  \\\n",
       "61  PRESIDIO OSPEDALIERO S.CHIARA  ATTIVITA` DI LABORATORIO       22205   \n",
       "85           LABORATORI ADIGE SRL  ATTIVITA` DI LABORATORIO       22205   \n",
       "86          LABORATORIO DRUSO SRL  ATTIVITA` DI LABORATORIO       22205   \n",
       "89  CASA DI CURA VILLA BIANCA SPA  ATTIVITA` DI LABORATORIO       22205   \n",
       "92        CENTRO SERVIZI SANITARI  ATTIVITA` DI LABORATORIO       22205   \n",
       "\n",
       "    COMUNE  \n",
       "61  TRENTO  \n",
       "85  TRENTO  \n",
       "86  TRENTO  \n",
       "89  TRENTO  \n",
       "92  TRENTO  "
      ]
     },
     "execution_count": 9,
     "metadata": {},
     "output_type": "execute_result"
    }
   ],
   "source": [
    "strutsan(22205, 'LABORATORIO')"
   ]
  },
  {
   "cell_type": "markdown",
   "metadata": {},
   "source": [
    "\n",
    "## B2 Strutture Comune di Trento\n",
    "\n",
    "✪✪ Scrivere una funzione `selcir` che apre il dataset [2019-02-17-strutture-comune-di-trento.csv](2019-02-17-strutture-comune-di-trento.csv) con un [reader csv](https://it.softpython.org/formats/formats2-csv-sol.html) (encoding utf-8) e data una lista `filtro` di parole, seleziona solo le righe che contengono alla colonna `Circoscrizione` **almeno una** delle parole indicate, STAMPA quanti risultati sono stati trovati e RITORNA una NUOVA lista di liste riportante le colonne `Nome` e `Circoscrizione` (senza header)\n",
    "\n",
    "- il filtro dovrebbe funzionare anche se nel testo ci sono parole con capitalizzazione diversa\n",
    "- **ATTENZIONE 1**: usare punto e virgola `;` come delimiter nel csv reader\n",
    "- **ATTENZIONE 2**: se più parole del filtro vengono rilevate in una riga, dovresti includere la riga nell'output solo una volta!\n",
    "\n",
    "Fonte dati: [dati.trentino.it](https://dati.trentino.it/dataset/strutture-del-comune-di-trento)"
   ]
  },
  {
   "cell_type": "raw",
   "id": "ddaad2c1",
   "metadata": {
    "format": "text/html"
   },
   "source": [
    "<a  class=\"jupman-sol jupman-sol-toggler\" \n",
    " onclick=\"jupman.toggleSolution(this);\" \n",
    " data-jupman-show=\"Mostra soluzione\" data-jupman-hide=\"Nascondi\">Mostra soluzione</a><div class=\"jupman-sol jupman-sol-code\" style=\"display:none\">  "
   ]
  },
  {
   "cell_type": "code",
   "execution_count": 10,
   "metadata": {},
   "outputs": [
    {
     "name": "stdout",
     "output_type": "stream",
     "text": [
      "Trovati 16 risultati\n"
     ]
    },
    {
     "data": {
      "text/plain": [
       "[['Argentario', 'Circoscrizione n. 06 - Argentario'],\n",
       " ['Martignano', 'Circoscrizione n. 06 - Argentario'],\n",
       " ['Montevaccino', 'Circoscrizione n. 06 - Argentario'],\n",
       " ['Gardolo', 'Circoscrizione n. 01 - Gardolo'],\n",
       " ['Roncafort (via Caproni)', 'Circoscrizione n. 01 - Gardolo'],\n",
       " ['Il Piccolo Girasole - Marnighe', 'Circoscrizione n. 06 - Argentario'],\n",
       " ['Gardolo', 'Circoscrizione n. 01 - Gardolo'],\n",
       " ['Aquilone - Gardolo', 'Circoscrizione n. 01 - Gardolo'],\n",
       " ['Roncafort (via Caneppele)', 'Circoscrizione n. 01 - Gardolo'],\n",
       " ['Arcobaleno - Martignano', 'Circoscrizione n. 06 - Argentario'],\n",
       " ['Margit Levinson - Roncafort', 'Circoscrizione n. 01 - Gardolo'],\n",
       " ['Biancaneve - Gardolo', 'Circoscrizione n. 01 - Gardolo'],\n",
       " ['Girasole - Melta', 'Circoscrizione n. 01 - Gardolo'],\n",
       " ['Gardolo - Meano', 'Circoscrizione n. 01 - Gardolo'],\n",
       " ['Argentario', 'Circoscrizione n. 06 - Argentario'],\n",
       " ['Gardolo', 'Circoscrizione n. 01 - Gardolo']]"
      ]
     },
     "execution_count": 10,
     "metadata": {},
     "output_type": "execute_result"
    }
   ],
   "source": [
    "import csv\n",
    "\n",
    "def selcir(filtro):\n",
    "    \n",
    "    \n",
    "    with open('2019-02-17-strutture-comune-di-trento.csv', encoding='utf-8', newline='') as f:\n",
    "    \n",
    "        lettore = csv.reader(f, delimiter=';')\n",
    "        next(lettore)\n",
    "        \n",
    "        ret = []\n",
    "        for riga in lettore:            \n",
    "            #print(riga)              \n",
    "            nome = riga[3]\n",
    "            circoscrizione = riga[16]                        \n",
    "            \n",
    "            tieni = False\n",
    "            for el in filtro:\n",
    "                if el.lower() in circoscrizione.lower():\n",
    "                    tieni = True\n",
    "            if tieni:\n",
    "                ret.append([nome, circoscrizione])\n",
    "        \n",
    "        print(\"Trovati\", len(ret), \"risultati\")\n",
    "        return ret\n",
    "            \n",
    "            \n",
    "    \n",
    "\n",
    "\n",
    "selcir(['argentario', 'gardolo'])"
   ]
  },
  {
   "cell_type": "raw",
   "id": "c160f15a",
   "metadata": {
    "format": "text/html"
   },
   "source": [
    "</div>"
   ]
  },
  {
   "cell_type": "code",
   "execution_count": 10,
   "metadata": {},
   "outputs": [
    {
     "name": "stdout",
     "output_type": "stream",
     "text": [
      "Trovati 16 risultati\n"
     ]
    },
    {
     "data": {
      "text/plain": [
       "[['Argentario', 'Circoscrizione n. 06 - Argentario'],\n",
       " ['Martignano', 'Circoscrizione n. 06 - Argentario'],\n",
       " ['Montevaccino', 'Circoscrizione n. 06 - Argentario'],\n",
       " ['Gardolo', 'Circoscrizione n. 01 - Gardolo'],\n",
       " ['Roncafort (via Caproni)', 'Circoscrizione n. 01 - Gardolo'],\n",
       " ['Il Piccolo Girasole - Marnighe', 'Circoscrizione n. 06 - Argentario'],\n",
       " ['Gardolo', 'Circoscrizione n. 01 - Gardolo'],\n",
       " ['Aquilone - Gardolo', 'Circoscrizione n. 01 - Gardolo'],\n",
       " ['Roncafort (via Caneppele)', 'Circoscrizione n. 01 - Gardolo'],\n",
       " ['Arcobaleno - Martignano', 'Circoscrizione n. 06 - Argentario'],\n",
       " ['Margit Levinson - Roncafort', 'Circoscrizione n. 01 - Gardolo'],\n",
       " ['Biancaneve - Gardolo', 'Circoscrizione n. 01 - Gardolo'],\n",
       " ['Girasole - Melta', 'Circoscrizione n. 01 - Gardolo'],\n",
       " ['Gardolo - Meano', 'Circoscrizione n. 01 - Gardolo'],\n",
       " ['Argentario', 'Circoscrizione n. 06 - Argentario'],\n",
       " ['Gardolo', 'Circoscrizione n. 01 - Gardolo']]"
      ]
     },
     "execution_count": 10,
     "metadata": {},
     "output_type": "execute_result"
    }
   ],
   "source": [
    "import csv\n",
    "\n",
    "def selcir(filtro):\n",
    "    raise Exception('TODO IMPLEMENT ME !')\n",
    "\n",
    "\n",
    "selcir(['argentario', 'gardolo'])"
   ]
  },
  {
   "cell_type": "code",
   "execution_count": 11,
   "metadata": {
    "scrolled": false
   },
   "outputs": [
    {
     "name": "stdout",
     "output_type": "stream",
     "text": [
      "Trovati 22 risultati\n"
     ]
    },
    {
     "data": {
      "text/plain": [
       "[['Argentario', 'Circoscrizione n. 06 - Argentario'],\n",
       " ['Martignano', 'Circoscrizione n. 06 - Argentario'],\n",
       " ['Montevaccino', 'Circoscrizione n. 06 - Argentario'],\n",
       " ['Gardolo', 'Circoscrizione n. 01 - Gardolo'],\n",
       " ['Ravina', 'Circoscrizione n. 05 - Ravina - Romagnano'],\n",
       " ['Romagnano', 'Circoscrizione n. 05 - Ravina - Romagnano'],\n",
       " ['Roncafort (via Caproni)', 'Circoscrizione n. 01 - Gardolo'],\n",
       " ['Il Piccolo Girasole - Marnighe', 'Circoscrizione n. 06 - Argentario'],\n",
       " ['Gardolo', 'Circoscrizione n. 01 - Gardolo'],\n",
       " ['Aquilone - Gardolo', 'Circoscrizione n. 01 - Gardolo'],\n",
       " ['Ravina', 'Circoscrizione n. 05 - Ravina - Romagnano'],\n",
       " ['Roncafort (via Caneppele)', 'Circoscrizione n. 01 - Gardolo'],\n",
       " ['Arcobaleno - Martignano', 'Circoscrizione n. 06 - Argentario'],\n",
       " ['Girotondo - Ravina', 'Circoscrizione n. 05 - Ravina - Romagnano'],\n",
       " ['Margit Levinson - Roncafort', 'Circoscrizione n. 01 - Gardolo'],\n",
       " ['Biancaneve - Gardolo', 'Circoscrizione n. 01 - Gardolo'],\n",
       " ['Gli gnomi del bosco - Romagnano',\n",
       "  'Circoscrizione n. 05 - Ravina - Romagnano'],\n",
       " ['Girasole - Melta', 'Circoscrizione n. 01 - Gardolo'],\n",
       " ['Gardolo - Meano', 'Circoscrizione n. 01 - Gardolo'],\n",
       " ['Argentario', 'Circoscrizione n. 06 - Argentario'],\n",
       " ['Ravina Romagnano', 'Circoscrizione n. 05 - Ravina - Romagnano'],\n",
       " ['Gardolo', 'Circoscrizione n. 01 - Gardolo']]"
      ]
     },
     "execution_count": 11,
     "metadata": {},
     "output_type": "execute_result"
    }
   ],
   "source": [
    "selcir(['argentario', 'Gardolo', 'RAVINA'])"
   ]
  },
  {
   "cell_type": "markdown",
   "metadata": {},
   "source": [
    "## B3 gradini\n",
    "\n",
    "✪✪✪ Data una matrice quadrata numpy `mat` di dimensione `n`, RITORNA un NUOVO array numpy contenente i valori recuperati dalla matrice nell'ordine seguente:\n",
    "\n",
    "```\n",
    "   1,2,*,*,*\n",
    "   *,3,4,*,*\n",
    "   *,*,5,6,*\n",
    "   *,*,*,7,8\n",
    "   *,*,*,*,9\n",
    "```  \n",
    "  \n",
    "- se la matrice non è quadrata, lancia `ValueError`\n",
    "- **NON** usare liste python!\n",
    "- **SUGGERIMENTO**: quanti elementi deve avere l'array da ritornare?\n",
    "  \n",
    "Esempio:"
   ]
  },
  {
   "cell_type": "markdown",
   "metadata": {},
   "source": [
    "```python\n",
    ">>> gradini(np.array([ [6,3,5,2,5],\n",
    "                       [3,4,2,3,4],\n",
    "                       [6,5,4,5,1],\n",
    "                       [4,3,2,3,9],\n",
    "                       [2,5,1,6,7] ] ))\n",
    "array([6., 3., 4., 2., 4., 5., 3., 9., 7.])\n",
    "```"
   ]
  },
  {
   "cell_type": "raw",
   "id": "bcdc7211",
   "metadata": {
    "format": "text/html"
   },
   "source": [
    "<a  class=\"jupman-sol jupman-sol-toggler\" \n",
    " onclick=\"jupman.toggleSolution(this);\" \n",
    " data-jupman-show=\"Mostra soluzione\" data-jupman-hide=\"Nascondi\">Mostra soluzione</a><div class=\"jupman-sol jupman-sol-code\" style=\"display:none\">  "
   ]
  },
  {
   "cell_type": "code",
   "execution_count": 12,
   "metadata": {},
   "outputs": [],
   "source": [
    "import numpy as np\n",
    "\n",
    "\n",
    "def gradini(mat):\n",
    "    \n",
    "    #SOLUZIONE 'BASIC'\n",
    "    n,m = mat.shape\n",
    "    if n != m:\n",
    "        raise ValueError(\"Richiesta una n x n, trovata invece una %s x %s\" % (n,m))\n",
    "\n",
    "    res = np.zeros(n + n - 1)\n",
    "\n",
    "    for i in range(n):\n",
    "        res[2*i] = mat[i,i]    \n",
    "\n",
    "    for i in range(n-1):\n",
    "        res[2*i+1] = mat[i,i+1]\n",
    "\n",
    "    return res\n",
    "    \n",
    "    \n",
    "m1 = np.array([ [7] ])                 \n",
    "assert np.allclose(gradini(m1), np.array([7]))\n",
    "\n",
    "m2 = np.array([ [6,8],\n",
    "                [9,3]])\n",
    "assert np.allclose(gradini(m2), np.array([6,8,3]))\n",
    "\n",
    "m3 = np.array([ [6,3,5,2,5],\n",
    "                [3,4,2,3,4],\n",
    "                [6,5,4,5,1],\n",
    "                [4,3,2,3,9],\n",
    "                [2,5,1,6,7]])\n",
    "\n",
    "assert np.allclose(gradini(m3), np.array([6,3,4,2,4,5,3,9,7]))    "
   ]
  },
  {
   "cell_type": "raw",
   "id": "4fb754d8",
   "metadata": {
    "format": "text/html"
   },
   "source": [
    "</div>"
   ]
  },
  {
   "cell_type": "code",
   "execution_count": 12,
   "metadata": {},
   "outputs": [],
   "source": [
    "import numpy as np\n",
    "\n",
    "\n",
    "def gradini(mat):\n",
    "    raise Exception('TODO IMPLEMENT ME !')\n",
    "    \n",
    "m1 = np.array([ [7] ])                 \n",
    "assert np.allclose(gradini(m1), np.array([7]))\n",
    "\n",
    "m2 = np.array([ [6,8],\n",
    "                [9,3]])\n",
    "assert np.allclose(gradini(m2), np.array([6,8,3]))\n",
    "\n",
    "m3 = np.array([ [6,3,5,2,5],\n",
    "                [3,4,2,3,4],\n",
    "                [6,5,4,5,1],\n",
    "                [4,3,2,3,9],\n",
    "                [2,5,1,6,7]])\n",
    "\n",
    "assert np.allclose(gradini(m3), np.array([6,3,4,2,4,5,3,9,7]))    "
   ]
  },
  {
   "cell_type": "raw",
   "id": "62884523",
   "metadata": {
    "format": "text/html"
   },
   "source": [
    "<a  class=\"jupman-sol jupman-sol-toggler\" \n",
    " onclick=\"jupman.toggleSolution(this);\" \n",
    " data-jupman-show=\"Mostra soluzione\" data-jupman-hide=\"Nascondi\">Mostra soluzione</a><div class=\"jupman-sol jupman-sol-code\" style=\"display:none\">  "
   ]
  },
  {
   "cell_type": "code",
   "execution_count": 13,
   "metadata": {},
   "outputs": [],
   "source": [
    "#SOLUZIONE 'PRO'\n",
    "\n",
    "import numpy as np\n",
    "def gradini_pro(mat):\n",
    "    \n",
    "    n,m = mat.shape\n",
    "    if n != m:\n",
    "        raise ValueError(\"Richiesta una n x n, trovata invece una %s x %s\" % (n,m))\n",
    "    a = np.diag(mat)\n",
    "    b = np.diag(mat, 1)\n",
    "    ret = np.zeros((1, a.shape[0] + b.shape[0]))\n",
    "    ret[:, ::2] = a\n",
    "    ret[:, 1::2] = b\n",
    "    return ret\n",
    "\n",
    "m1 = np.array([ [7] ])                 \n",
    "assert np.allclose(gradini_pro(m1), np.array([7]))\n",
    "\n",
    "m2 = np.array([ [6,8],\n",
    "                [9,3]])\n",
    "assert np.allclose(gradini_pro(m2), np.array([6,8,3]))\n",
    "\n",
    "m3 = np.array([ [6,3,5,2,5],\n",
    "                [3,4,2,3,4],\n",
    "                [6,5,4,5,1],\n",
    "                [4,3,2,3,9],\n",
    "                [2,5,1,6,7]])\n",
    "\n",
    "assert np.allclose(gradini_pro(m3), np.array([6,3,4,2,4,5,3,9,7]))\n"
   ]
  },
  {
   "cell_type": "raw",
   "id": "8bc906c7",
   "metadata": {
    "format": "text/html"
   },
   "source": [
    "</div>"
   ]
  },
  {
   "cell_type": "code",
   "execution_count": 13,
   "metadata": {},
   "outputs": [],
   "source": [
    "#SOLUZIONE 'PRO'\n"
   ]
  },
  {
   "cell_type": "markdown",
   "metadata": {},
   "source": [
    "## B4 muro\n",
    "\n",
    "✪✪✪ Dato una lista `ripe` di ripetizioni e una matrice n x m `mat` come lista di liste, RITORNA una matrice **completamente NUOVA** prendendo le righe di `mat` e replicandole il numero di volte indicato nelle corrispondenti celle di `ripe`\n",
    "\n",
    "- **NON** devono risultare puntatori dalla matrice nuova a quella vecchia!\n",
    "\n",
    "Esempio:"
   ]
  },
  {
   "cell_type": "markdown",
   "metadata": {},
   "source": [
    "```python\n",
    ">>> muro([3,4,1,2], [['i','a','a'],\n",
    "                     ['q','r','f'],\n",
    "                     ['y','e','v'],\n",
    "                     ['e','g','h']])\n",
    "[['i', 'a', 'a'],\n",
    " ['i', 'a', 'a'],\n",
    " ['i', 'a', 'a'],\n",
    " ['q', 'r', 'f'],\n",
    " ['q', 'r', 'f'],\n",
    " ['q', 'r', 'f'],\n",
    " ['q', 'r', 'f'],              \n",
    " ['y', 'e', 'v'],              \n",
    " ['e', 'g', 'h'],\n",
    " ['e', 'g', 'h']]\n",
    "```"
   ]
  },
  {
   "cell_type": "raw",
   "id": "4f6cb5de",
   "metadata": {
    "format": "text/html"
   },
   "source": [
    "<a  class=\"jupman-sol jupman-sol-toggler\" \n",
    " onclick=\"jupman.toggleSolution(this);\" \n",
    " data-jupman-show=\"Mostra soluzione\" data-jupman-hide=\"Nascondi\">Mostra soluzione</a><div class=\"jupman-sol jupman-sol-code\" style=\"display:none\">  "
   ]
  },
  {
   "cell_type": "code",
   "execution_count": 14,
   "metadata": {},
   "outputs": [],
   "source": [
    "def muro(ripe, mat):\n",
    "    \n",
    "    res = []\n",
    "\n",
    "    i = 0\n",
    "    for i in range(len(mat)):\n",
    "        riga = mat[i]\n",
    "        n = ripe[i]\n",
    "        for i in range(n):\n",
    "            res.append(riga[:])\n",
    "    return res\n",
    "    \n",
    "\n",
    "m1 = [['a']] \n",
    "assert muro([2], m1) == [['a'],\n",
    "                         ['a']]\n",
    "\n",
    "m2 = [['a','b','c','d'],  \n",
    "      ['e','q','v','r']] \n",
    "r2 = muro([3,2], m2)                    \n",
    "assert r2 == [['a','b','c','d'],\n",
    "              ['a','b','c','d'],\n",
    "              ['a','b','c','d'],\n",
    "              ['e','q','v','r'],\n",
    "              ['e','q','v','r']]\n",
    "r2[0][0] = 'z'                           \n",
    "assert m2 == [['a','b','c','d'],  # vogliamo una NUOVA matrice\n",
    "              ['e','q','v','r']]                            \n",
    "    \n",
    "m3 = [['i','a','a'],\n",
    "      ['q','r','f'],\n",
    "      ['y','e','v'],\n",
    "      ['e','g','h']]    \n",
    "r3 = muro([3,4,1,2], m3)\n",
    "assert r3 == [['i', 'a', 'a'],\n",
    "              ['i', 'a', 'a'],\n",
    "              ['i', 'a', 'a'],\n",
    "              ['q', 'r', 'f'],\n",
    "              ['q', 'r', 'f'],\n",
    "              ['q', 'r', 'f'],\n",
    "              ['q', 'r', 'f'],              \n",
    "              ['y', 'e', 'v'],              \n",
    "              ['e', 'g', 'h'],\n",
    "              ['e', 'g', 'h']]"
   ]
  },
  {
   "cell_type": "raw",
   "id": "a02c843c",
   "metadata": {
    "format": "text/html"
   },
   "source": [
    "</div>"
   ]
  },
  {
   "cell_type": "code",
   "execution_count": 14,
   "metadata": {},
   "outputs": [],
   "source": [
    "def muro(ripe, mat):\n",
    "    raise Exception('TODO IMPLEMENT ME !')\n",
    "\n",
    "m1 = [['a']] \n",
    "assert muro([2], m1) == [['a'],\n",
    "                         ['a']]\n",
    "\n",
    "m2 = [['a','b','c','d'],  \n",
    "      ['e','q','v','r']] \n",
    "r2 = muro([3,2], m2)                    \n",
    "assert r2 == [['a','b','c','d'],\n",
    "              ['a','b','c','d'],\n",
    "              ['a','b','c','d'],\n",
    "              ['e','q','v','r'],\n",
    "              ['e','q','v','r']]\n",
    "r2[0][0] = 'z'                           \n",
    "assert m2 == [['a','b','c','d'],  # vogliamo una NUOVA matrice\n",
    "              ['e','q','v','r']]                            \n",
    "    \n",
    "m3 = [['i','a','a'],\n",
    "      ['q','r','f'],\n",
    "      ['y','e','v'],\n",
    "      ['e','g','h']]    \n",
    "r3 = muro([3,4,1,2], m3)\n",
    "assert r3 == [['i', 'a', 'a'],\n",
    "              ['i', 'a', 'a'],\n",
    "              ['i', 'a', 'a'],\n",
    "              ['q', 'r', 'f'],\n",
    "              ['q', 'r', 'f'],\n",
    "              ['q', 'r', 'f'],\n",
    "              ['q', 'r', 'f'],              \n",
    "              ['y', 'e', 'v'],              \n",
    "              ['e', 'g', 'h'],\n",
    "              ['e', 'g', 'h']]"
   ]
  },
  {
   "cell_type": "code",
   "execution_count": null,
   "metadata": {},
   "outputs": [],
   "source": []
  }
 ],
 "metadata": {
  "celltoolbar": "Edit Metadata",
  "kernelspec": {
   "display_name": "Python 3 (ipykernel)",
   "language": "python",
   "name": "python3"
  },
  "language_info": {
   "codemirror_mode": {
    "name": "ipython",
    "version": 3
   },
   "file_extension": ".py",
   "mimetype": "text/x-python",
   "name": "python",
   "nbconvert_exporter": "python",
   "pygments_lexer": "ipython3",
   "version": "3.7.10"
  },
  "toc": {
   "base_numbering": 1,
   "nav_menu": {},
   "number_sections": false,
   "sideBar": true,
   "skip_h1_title": false,
   "title_cell": "Table of Contents",
   "title_sidebar": "Contents",
   "toc_cell": false,
   "toc_position": {},
   "toc_section_display": true,
   "toc_window_display": true
  }
 },
 "nbformat": 4,
 "nbformat_minor": 1
}
