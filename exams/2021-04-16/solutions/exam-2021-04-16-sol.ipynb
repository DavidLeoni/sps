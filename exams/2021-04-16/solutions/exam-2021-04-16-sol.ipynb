{
 "cells": [
  {
   "cell_type": "code",
   "execution_count": 1,
   "metadata": {
    "nbsphinx": "hidden"
   },
   "outputs": [],
   "source": [
    "\n",
    "#RICORDATI DI ESEGUIRE QUESTA CELLA\n",
    "import jupman;"
   ]
  },
  {
   "cell_type": "markdown",
   "metadata": {},
   "source": [
    "# Esame Ven 16, Apr 2021 A\n",
    "\n",
    "**Seminari Python @Sociologia, Università di Trento**\n",
    "\n",
    "## [Scarica](../../../_static/generated/sps-2021-04-16-exam.zip) esercizi e soluzioni"
   ]
  },
  {
   "cell_type": "markdown",
   "metadata": {},
   "source": [
    "## Esercizio - prendilettere\n",
    "\n",
    "✪ Data una `frase` che contiene **esattamente** 3 parole e ha **sempre** come parola centrale un numero $n$, scrivi del codice the STAMPA i primi $n$ caratteri della terza parola\n",
    "\n",
    "Esempio - data:\n",
    "\n",
    "```python\n",
    "frase = \"Prendi 4 lettere\"\n",
    "```\n",
    "\n",
    "il tuo codice deve stampare:\n",
    "\n",
    "```\n",
    "lett\n",
    "```\n"
   ]
  },
  {
   "cell_type": "raw",
   "id": "4b555ac2",
   "metadata": {
    "format": "text/html"
   },
   "source": [
    "<a  class=\"jupman-sol jupman-sol-toggler\" \n",
    " onclick=\"jupman.toggleSolution(this);\" \n",
    " data-jupman-show=\"Mostra soluzione\" data-jupman-hide=\"Nascondi\">Mostra soluzione</a><div class=\"jupman-sol jupman-sol-code\" style=\"display:none\">  "
   ]
  },
  {
   "cell_type": "code",
   "execution_count": 2,
   "metadata": {},
   "outputs": [
    {
     "name": "stdout",
     "output_type": "stream",
     "text": [
      "lett\n"
     ]
    }
   ],
   "source": [
    "\n",
    "frase = \"Prendi 4 lettere\"       # lett\n",
    "#frase = \"Prendere 5 caratteri\"  # carat\n",
    "#frase = \"Take 10 characters\"    # characters\n",
    "\n",
    "# scrivi qui\n",
    "parole = frase.split()\n",
    "n = int(parole[1])\n",
    "print(parole[2][:n])"
   ]
  },
  {
   "cell_type": "raw",
   "id": "8c974d43",
   "metadata": {
    "format": "text/html"
   },
   "source": [
    "</div>"
   ]
  },
  {
   "cell_type": "code",
   "execution_count": 2,
   "metadata": {},
   "outputs": [],
   "source": [
    "\n",
    "frase = \"Prendi 4 lettere\"       # lett\n",
    "#frase = \"Prendere 5 caratteri\"  # carat\n",
    "#frase = \"Take 10 characters\"    # characters\n",
    "\n",
    "# scrivi qui\n",
    "\n"
   ]
  },
  {
   "cell_type": "markdown",
   "metadata": {},
   "source": [
    "## Esercizio - brico\n",
    "\n",
    "✪✪ Un magazzino per appassionati del fai da te dispone di un `catalogo` che associa tipologie di oggetti agli scaffali dove posizionarli. Ogni giorno, una lista di `arrivi` viene popolata con le tipologie di oggetti arrivati. Tali tipologie vanno collocate nel `magazzino`, un dizionario che associa ad ogni scaffale la tipologia di oggetto prescritta dal catalogo. Scrivi del codice che data la lista di `arrivi` e il `catalogo`, popola il dizionario `magazzino`.\n",
    "\n",
    "Esempio - dati:\n",
    "\n",
    "```python\n",
    "\n",
    "arrivi = ['sedie', 'lampade', 'cavi']\n",
    "\n",
    "catalogo = {'stufe' : 'A',\n",
    "            'sedie' : 'B',\n",
    "            'caraffe' : 'D',\n",
    "            'lampade' : 'C',\n",
    "            'cavi' : 'F',\n",
    "            'giardinaggio' : 'E'}\n",
    "\n",
    "magazzino = {}\n",
    "```\n",
    "\n",
    "dopo il tuo codice deve risultare:\n",
    "\n",
    "```python\n",
    ">>> magazzino\n",
    "{'B': 'sedie', 'C': 'lampade', 'F': 'cavi'}\n",
    "```"
   ]
  },
  {
   "cell_type": "raw",
   "id": "aaed9a67",
   "metadata": {
    "format": "text/html"
   },
   "source": [
    "<a  class=\"jupman-sol jupman-sol-toggler\" \n",
    " onclick=\"jupman.toggleSolution(this);\" \n",
    " data-jupman-show=\"Mostra soluzione\" data-jupman-hide=\"Nascondi\">Mostra soluzione</a><div class=\"jupman-sol jupman-sol-code\" style=\"display:none\">  "
   ]
  },
  {
   "cell_type": "code",
   "execution_count": 3,
   "metadata": {},
   "outputs": [
    {
     "data": {
      "text/plain": [
       "{'B': 'sedie', 'C': 'lampade', 'F': 'cavi'}"
      ]
     },
     "execution_count": 3,
     "metadata": {},
     "output_type": "execute_result"
    }
   ],
   "source": [
    "\n",
    "arrivi = ['sedie', 'lampade', 'cavi']  # magazzino diventa:  {'B': 'sedie', 'C': 'lampade', 'F': 'cavi'}\n",
    "#arrivi = ['caraffe', 'giardinaggio']  # magazzino diventa:  {'D': 'caraffe', 'E': 'giardinaggio'}\n",
    "#arrivi = ['stufe']                    # magazzino diventa: {'A': 'stufe'}\n",
    "\n",
    "catalogo = {'stufe' : 'A',\n",
    "            'sedie' : 'B',\n",
    "            'caraffe' : 'D',\n",
    "            'lampade' : 'C',\n",
    "            'cavi' : 'F',\n",
    "            'giardinaggio' : 'E'}\n",
    "\n",
    "# scrivi qui\n",
    "\n",
    "magazzino = {}\n",
    "\n",
    "for consegna in arrivi:    \n",
    "    magazzino[ catalogo[consegna] ] = consegna\n",
    "\n",
    "magazzino"
   ]
  },
  {
   "cell_type": "raw",
   "id": "154ac33f",
   "metadata": {
    "format": "text/html"
   },
   "source": [
    "</div>"
   ]
  },
  {
   "cell_type": "code",
   "execution_count": 3,
   "metadata": {},
   "outputs": [],
   "source": [
    "\n",
    "arrivi = ['sedie', 'lampade', 'cavi']  # magazzino diventa:  {'B': 'sedie', 'C': 'lampade', 'F': 'cavi'}\n",
    "#arrivi = ['caraffe', 'giardinaggio']  # magazzino diventa:  {'D': 'caraffe', 'E': 'giardinaggio'}\n",
    "#arrivi = ['stufe']                    # magazzino diventa: {'A': 'stufe'}\n",
    "\n",
    "catalogo = {'stufe' : 'A',\n",
    "            'sedie' : 'B',\n",
    "            'caraffe' : 'D',\n",
    "            'lampade' : 'C',\n",
    "            'cavi' : 'F',\n",
    "            'giardinaggio' : 'E'}\n",
    "\n",
    "# scrivi qui\n",
    "\n"
   ]
  },
  {
   "cell_type": "markdown",
   "metadata": {},
   "source": [
    "## Esercizio - La parola più lunga\n",
    "\n",
    "✪✪ Scrivi del codice che data una `frase`, stampa la **lunghezza** della parola più lunga.\n",
    "\n",
    "- **NOTA**: vogliamo solo sapere la lunghezza della parola più lunga, non la parola stessa !\n",
    "\n",
    "Esempio - data:\n",
    "\n",
    "```python\n",
    "frase = \"La strada si inerpica lungo il ciglio della montagna\"\n",
    "```\n",
    "\n",
    "il tuo codice dovrà stampare\n",
    "\n",
    "```\n",
    "8\n",
    "```\n",
    "\n",
    "che è la lunghezza delle parole più lunghe che sono a parimerito `inerpica` e `montagna`"
   ]
  },
  {
   "cell_type": "raw",
   "id": "61dd4925",
   "metadata": {
    "format": "text/html"
   },
   "source": [
    "<a  class=\"jupman-sol jupman-sol-toggler\" \n",
    " onclick=\"jupman.toggleSolution(this);\" \n",
    " data-jupman-show=\"Mostra soluzione\" data-jupman-hide=\"Nascondi\">Mostra soluzione</a><div class=\"jupman-sol jupman-sol-code\" style=\"display:none\">  "
   ]
  },
  {
   "cell_type": "code",
   "execution_count": 4,
   "metadata": {},
   "outputs": [
    {
     "data": {
      "text/plain": [
       "8"
      ]
     },
     "execution_count": 4,
     "metadata": {},
     "output_type": "execute_result"
    }
   ],
   "source": [
    "\n",
    "frase = \"La strada si inerpica lungo il ciglio della montagna\" # 8  \n",
    "#frase = \"Il temibile pirata Le Chuck dominava spietatamente i mari del Sud\"  # 13  \n",
    "#frase = \"Praticamente ovvio\" # 12\n",
    "\n",
    "# scrivi qui\n",
    "\n",
    "max([len(parola) for parola in frase.split()])"
   ]
  },
  {
   "cell_type": "raw",
   "id": "c34caa5f",
   "metadata": {
    "format": "text/html"
   },
   "source": [
    "</div>"
   ]
  },
  {
   "cell_type": "code",
   "execution_count": 4,
   "metadata": {},
   "outputs": [],
   "source": [
    "\n",
    "frase = \"La strada si inerpica lungo il ciglio della montagna\" # 8  \n",
    "#frase = \"Il temibile pirata Le Chuck dominava spietatamente i mari del Sud\"  # 13  \n",
    "#frase = \"Praticamente ovvio\" # 12\n",
    "\n",
    "# scrivi qui\n",
    "\n"
   ]
  },
  {
   "cell_type": "markdown",
   "metadata": {},
   "source": [
    "## Esercizio - splash\n",
    "\n",
    "✪✪✪ Data una lista di lunghezza dispari riempita di zeri eccetto il numero in mezzo, scrivi del codice che MODIFICA la lista per scrivere numeri che decrescano mano a mano che ci si allontana dal centro.\n",
    "\n",
    "- la lunghezza della lista è sempre dispari\n",
    "- assumi che la lista sarà sempre di lunghezza sufficiente per arrivare ad avere zero in ciascun bordo\n",
    "- una lista di dimensione 1 conterrà solo uno zero\n",
    "\n",
    "Esempio 1 - data:\n",
    "\n",
    "```python\n",
    "lista = [0, 0, 0, 0, 4, 0, 0, 0, 0]\n",
    "```\n",
    "\n",
    "dopo il tuo codice, deve risultare:\n",
    "\n",
    "```python\n",
    ">>> lista\n",
    "[0, 1, 2, 3, 4, 3, 2, 1, 0]\n",
    "```\n",
    "\n",
    "Esempio 2 - data: \n",
    "\n",
    "```python\n",
    "lista = [0, 0, 0, 3, 0, 0, 0]\n",
    "```\n",
    "\n",
    "dopo il tuo codice, deve risultare:\n",
    "\n",
    "```python\n",
    ">>> lista\n",
    "[0, 1, 2, 3, 2, 1, 0]\n",
    "```\n",
    "\n"
   ]
  },
  {
   "cell_type": "raw",
   "id": "0894a870",
   "metadata": {
    "format": "text/html"
   },
   "source": [
    "<a  class=\"jupman-sol jupman-sol-toggler\" \n",
    " onclick=\"jupman.toggleSolution(this);\" \n",
    " data-jupman-show=\"Mostra soluzione\" data-jupman-hide=\"Nascondi\">Mostra soluzione</a><div class=\"jupman-sol jupman-sol-code\" style=\"display:none\">  "
   ]
  },
  {
   "cell_type": "code",
   "execution_count": 5,
   "metadata": {},
   "outputs": [
    {
     "data": {
      "text/plain": [
       "[0, 1, 2, 3, 4, 3, 2, 1, 0]"
      ]
     },
     "execution_count": 5,
     "metadata": {},
     "output_type": "execute_result"
    }
   ],
   "source": [
    "\n",
    "lista = [0, 0, 0, 0, 4, 0, 0, 0, 0] # -> [0, 1, 2, 3, 4, 3, 2, 1, 0]\n",
    "#lista = [0, 0, 0, 3, 0, 0, 0]      # -> [0, 1, 2, 3, 2, 1, 0]\n",
    "#lista = [0, 0, 2, 0, 0]            # -> [0, 1, 2, 1, 0]\n",
    "#lista = [0]  # -> [0]\n",
    "\n",
    "# scrivi qui\n",
    "\n",
    "m = len(lista) // 2\n",
    "\n",
    "for i in range(m):\n",
    "    lista[m+i] = m - i\n",
    "    \n",
    "for i in range(m):\n",
    "    lista[i] = i\n",
    "lista\n"
   ]
  },
  {
   "cell_type": "raw",
   "id": "c6ef9709",
   "metadata": {
    "format": "text/html"
   },
   "source": [
    "</div>"
   ]
  },
  {
   "cell_type": "code",
   "execution_count": 5,
   "metadata": {},
   "outputs": [],
   "source": [
    "\n",
    "lista = [0, 0, 0, 0, 4, 0, 0, 0, 0] # -> [0, 1, 2, 3, 4, 3, 2, 1, 0]\n",
    "#lista = [0, 0, 0, 3, 0, 0, 0]      # -> [0, 1, 2, 3, 2, 1, 0]\n",
    "#lista = [0, 0, 2, 0, 0]            # -> [0, 1, 2, 1, 0]\n",
    "#lista = [0]  # -> [0]\n",
    "\n",
    "# scrivi qui\n",
    "\n"
   ]
  },
  {
   "cell_type": "markdown",
   "metadata": {},
   "source": [
    "## Esercizio - accatastare\n",
    "\n",
    "✪✪✪ Data una `stringa` e due caratteri `car1` e `car2`, scrivi del codice che STAMPA `True` se tutte le occorrenze di `car1` in stringa sono **sempre** seguite da `car2`.\n",
    "\n",
    "Esempio - data:\n",
    "\n",
    "```python\n",
    "stringa,car1,car2 = \"accatastare la posta nella stiva\", 's','t' \n",
    "```\n",
    "\n",
    "stampa `True` perchè tutte le occorrenze di `s` sono seguite da `t`\n",
    "\n",
    "\n",
    "```python\n",
    "stringa,car1,car2 = \"dadaista entusiasta\", 's','t'\n",
    "```\n",
    "\n",
    "stampa `False`, perchè viene ritrovata la sequenza `si` dove `s` non è seguita da `t`\n",
    "\n",
    "- **USA** un `while`, cerca di farlo efficiente terminandolo appena puoi\n",
    "- **NON** usare **break**"
   ]
  },
  {
   "cell_type": "raw",
   "id": "99ee829d",
   "metadata": {
    "format": "text/html"
   },
   "source": [
    "<a  class=\"jupman-sol jupman-sol-toggler\" \n",
    " onclick=\"jupman.toggleSolution(this);\" \n",
    " data-jupman-show=\"Mostra soluzione\" data-jupman-hide=\"Nascondi\">Mostra soluzione</a><div class=\"jupman-sol jupman-sol-code\" style=\"display:none\">  "
   ]
  },
  {
   "cell_type": "code",
   "execution_count": 6,
   "metadata": {},
   "outputs": [
    {
     "data": {
      "text/plain": [
       "True"
      ]
     },
     "execution_count": 6,
     "metadata": {},
     "output_type": "execute_result"
    }
   ],
   "source": [
    "\n",
    "stringa,car1,car2 = \"accatastare la posta nella stiva\", 's','t'  # True\n",
    "#stringa,car1,car2 = \"dadaista entusiasta\", 's','t'    # False\n",
    "#stringa,car1,car2 = \"barbabietole\", 't','o'           # True\n",
    "#stringa,car1,car2 = \"barbabietole\", 'b','a'           # False\n",
    "#stringa,car1,car2 = \"a\", 'a','b'                      # False\n",
    "#stringa,car1,car2 = \"ab\", 'a','b'                     # True\n",
    "#stringa,car1,car2 = \"aa\", 'a','b'                     # False\n",
    "\n",
    "\n",
    "# scrivi qui\n",
    "i = 0\n",
    "\n",
    "res = True\n",
    "\n",
    "if len(stringa) == 1:\n",
    "    res = False\n",
    "\n",
    "while i + 1 < len(stringa) and res:\n",
    "    if stringa[i] == car1 and stringa[i+1] != car2:        \n",
    "        res = False       \n",
    "    i += 1\n",
    "    \n",
    "res    "
   ]
  },
  {
   "cell_type": "raw",
   "id": "00e25e03",
   "metadata": {
    "format": "text/html"
   },
   "source": [
    "</div>"
   ]
  },
  {
   "cell_type": "code",
   "execution_count": 6,
   "metadata": {},
   "outputs": [],
   "source": [
    "\n",
    "stringa,car1,car2 = \"accatastare la posta nella stiva\", 's','t'  # True\n",
    "#stringa,car1,car2 = \"dadaista entusiasta\", 's','t'    # False\n",
    "#stringa,car1,car2 = \"barbabietole\", 't','o'           # True\n",
    "#stringa,car1,car2 = \"barbabietole\", 'b','a'           # False\n",
    "#stringa,car1,car2 = \"a\", 'a','b'                      # False\n",
    "#stringa,car1,car2 = \"ab\", 'a','b'                     # True\n",
    "#stringa,car1,car2 = \"aa\", 'a','b'                     # False\n",
    "\n",
    "\n",
    "# scrivi qui\n",
    "\n"
   ]
  },
  {
   "cell_type": "code",
   "execution_count": null,
   "metadata": {},
   "outputs": [],
   "source": []
  }
 ],
 "metadata": {
  "celltoolbar": "Edit Metadata",
  "kernelspec": {
   "display_name": "Python 3 (ipykernel)",
   "language": "python",
   "name": "python3"
  },
  "language_info": {
   "codemirror_mode": {
    "name": "ipython",
    "version": 3
   },
   "file_extension": ".py",
   "mimetype": "text/x-python",
   "name": "python",
   "nbconvert_exporter": "python",
   "pygments_lexer": "ipython3",
   "version": "3.7.10"
  },
  "toc": {
   "base_numbering": 1,
   "nav_menu": {},
   "number_sections": false,
   "sideBar": true,
   "skip_h1_title": false,
   "title_cell": "Table of Contents",
   "title_sidebar": "Contents",
   "toc_cell": false,
   "toc_position": {},
   "toc_section_display": true,
   "toc_window_display": true
  }
 },
 "nbformat": 4,
 "nbformat_minor": 1
}
