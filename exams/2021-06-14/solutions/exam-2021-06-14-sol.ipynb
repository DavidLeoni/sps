{
 "cells": [
  {
   "cell_type": "code",
   "execution_count": 1,
   "metadata": {
    "nbsphinx": "hidden"
   },
   "outputs": [],
   "source": [
    "\n",
    "#RICORDATI DI ESEGUIRE QUESTA CELLA!\n",
    "import jupman;"
   ]
  },
  {
   "cell_type": "markdown",
   "metadata": {},
   "source": [
    "# Esame Lun 14, Giu 2021 A\n",
    "\n",
    "**Seminari Python - Triennale Sociologia @Università di Trento**\n",
    "\n",
    "## [Scarica](../../../_static/generated/sps-2021-06-14-exam.zip) esercizi e soluzioni"
   ]
  },
  {
   "cell_type": "markdown",
   "metadata": {},
   "source": [
    "## A1 La gara\n",
    "\n",
    "✪ Una lista di `partecipanti` ha vinto un concorso a premi, e ora si vuole mostrare su un cartellone la loro posizione. Scrivi del codice che MODIFICA la lista scrivendo il numero del partecipante a fianco del nome.\n",
    "\n",
    "Esempio - data:\n",
    "\n",
    "\n",
    "```python\n",
    "partecipanti = ['Marta','Peppo','Elisa','Gioele','Rosa']\n",
    "```\n",
    "\n",
    "dopo il tuo codice deve risultare:\n",
    "\n",
    "```python\n",
    ">>> partecipanti\n",
    "['Marta-1', 'Peppo-2', 'Elisa-3', 'Gioele-4', 'Rosa-5']\n",
    "```\n"
   ]
  },
  {
   "cell_type": "raw",
   "id": "fa8b93f6",
   "metadata": {
    "format": "text/html"
   },
   "source": [
    "<a  class=\"jupman-sol jupman-sol-toggler\" \n",
    " onclick=\"jupman.toggleSolution(this);\" \n",
    " data-jupman-show=\"Mostra soluzione\" data-jupman-hide=\"Nascondi\">Mostra soluzione</a><div class=\"jupman-sol jupman-sol-code\" style=\"display:none\">  "
   ]
  },
  {
   "cell_type": "code",
   "execution_count": 2,
   "metadata": {},
   "outputs": [
    {
     "data": {
      "text/plain": [
       "['Marta-1', 'Peppo-2', 'Elisa-3', 'Gioele-4', 'Rosa-5']"
      ]
     },
     "execution_count": 2,
     "metadata": {},
     "output_type": "execute_result"
    }
   ],
   "source": [
    "partecipanti = ['Marta','Peppo','Elisa','Gioele','Rosa']\n",
    "\n",
    "# scrivi qui\n",
    "\n",
    "for i in range(len(partecipanti)):\n",
    "    partecipanti[i] = partecipanti[i] + '-' + str(i+1)\n",
    "    \n",
    "partecipanti"
   ]
  },
  {
   "cell_type": "raw",
   "id": "f738c179",
   "metadata": {
    "format": "text/html"
   },
   "source": [
    "</div>"
   ]
  },
  {
   "cell_type": "code",
   "execution_count": 2,
   "metadata": {},
   "outputs": [
    {
     "data": {
      "text/plain": [
       "['Marta-1', 'Peppo-2', 'Elisa-3', 'Gioele-4', 'Rosa-5']"
      ]
     },
     "execution_count": 2,
     "metadata": {},
     "output_type": "execute_result"
    }
   ],
   "source": [
    "partecipanti = ['Marta','Peppo','Elisa','Gioele','Rosa']\n",
    "\n",
    "# scrivi qui\n",
    "\n"
   ]
  },
  {
   "cell_type": "markdown",
   "metadata": {},
   "source": [
    "## A2 ramarro\n",
    "\n",
    "✪✪ Scrivi del codice che dato un insieme `cerca` di caratteri da cercare, per ciascuno conta quanti ce ne sono nella stringa `testo` e mette il numero nel dizionario `conteggi`\n",
    "\n",
    "Esempio - dati:"
   ]
  },
  {
   "cell_type": "code",
   "execution_count": 3,
   "metadata": {},
   "outputs": [],
   "source": [
    "cerca = {'i','t','r'}\n",
    "testo = \"Il ramarro orientale è un sauro della famiglia dei Lacertidi, di colore verde brillante\"\n",
    "conteggi = {}"
   ]
  },
  {
   "cell_type": "markdown",
   "metadata": {},
   "source": [
    "dopo il tuo codice, deve risultare:\n",
    "\n",
    "```python\n",
    ">>> conteggi\n",
    "{'r': 9, 'i': 8, 't': 3}\n",
    "```"
   ]
  },
  {
   "cell_type": "raw",
   "id": "1349ff2b",
   "metadata": {
    "format": "text/html"
   },
   "source": [
    "<a  class=\"jupman-sol jupman-sol-toggler\" \n",
    " onclick=\"jupman.toggleSolution(this);\" \n",
    " data-jupman-show=\"Mostra soluzione\" data-jupman-hide=\"Nascondi\">Mostra soluzione</a><div class=\"jupman-sol jupman-sol-code\" style=\"display:none\">  "
   ]
  },
  {
   "cell_type": "code",
   "execution_count": 4,
   "metadata": {},
   "outputs": [
    {
     "name": "stdout",
     "output_type": "stream",
     "text": [
      "{'r': 9, 'i': 8, 't': 3}\n",
      "{'r': 9, 'i': 8, 't': 3}\n"
     ]
    }
   ],
   "source": [
    "#jupman-ignore-output\n",
    "cerca = {'i','t','r'}\n",
    "testo = \"Il ramarro orientale è un sauro della famiglia dei Lacertidi, di colore verde brillante\"\n",
    "conteggi = {}\n",
    "\n",
    "# scrivi qui\n",
    "\n",
    "# soluzione 1, più efficente\n",
    "for lettera in testo:\n",
    "    if lettera in cerca:\n",
    "        if lettera in conteggi:\n",
    "            conteggi[lettera] += 1\n",
    "        else:\n",
    "            conteggi[lettera] = 1            \n",
    "            \n",
    "print(conteggi)\n",
    "\n",
    "# soluzione 2, meno efficente (scansioniamo testo n volte con count)\n",
    "for lettera in cerca:    \n",
    "    conteggi[lettera] = testo.count(lettera)        \n",
    "            \n",
    "print(conteggi)"
   ]
  },
  {
   "cell_type": "raw",
   "id": "89216ae4",
   "metadata": {
    "format": "text/html"
   },
   "source": [
    "</div>"
   ]
  },
  {
   "cell_type": "code",
   "execution_count": 4,
   "metadata": {},
   "outputs": [
    {
     "name": "stdout",
     "output_type": "stream",
     "text": [
      "{'r': 9, 'i': 8, 't': 3}\n",
      "{'r': 9, 'i': 8, 't': 3}\n"
     ]
    }
   ],
   "source": [
    "#jupman-ignore-output\n",
    "cerca = {'i','t','r'}\n",
    "testo = \"Il ramarro orientale è un sauro della famiglia dei Lacertidi, di colore verde brillante\"\n",
    "conteggi = {}\n",
    "\n",
    "# scrivi qui\n",
    "\n"
   ]
  },
  {
   "cell_type": "markdown",
   "metadata": {},
   "source": [
    "## A3 hangar\n",
    "\n",
    "Il nostro aereo è appena atterrato ma deve arrivare all'hangar schivando tutti gli oggetti estranei che trova sulla pista!  Scrivi del codice che data una stringa `corsa` con un certo numero di caratteri non alfanumerici all'inizio, STAMPA la parola che segue questi caratteri.\n",
    "\n",
    "Esempio - data:\n",
    "\n",
    "```python\n",
    "corsa = '★★🏳🏳♦🏳♦🏳🏳hangar★★★'  # hangar\n",
    "```\n",
    "\n",
    "il tuo codice deve stampare:\n",
    "\n",
    "`hangar★★★`\n",
    "\n",
    "* **NON** puoi sapere a priori quali caratteri extra troverai nella stringa\n",
    "* **NON** scrivere caratteri come ★🏳♦ nel codice ...)\n",
    "\n",
    "**SUGGERIMENTO**: per determinare se hai trovato caratteri alfanumerici o numeri, usa i metodi `.isalpha()` e `.isdigit()`"
   ]
  },
  {
   "cell_type": "raw",
   "id": "78ba1b7f",
   "metadata": {
    "format": "text/html"
   },
   "source": [
    "<a  class=\"jupman-sol jupman-sol-toggler\" \n",
    " onclick=\"jupman.toggleSolution(this);\" \n",
    " data-jupman-show=\"Mostra soluzione\" data-jupman-hide=\"Nascondi\">Mostra soluzione</a><div class=\"jupman-sol jupman-sol-code\" style=\"display:none\">  "
   ]
  },
  {
   "cell_type": "code",
   "execution_count": 5,
   "metadata": {},
   "outputs": [
    {
     "name": "stdout",
     "output_type": "stream",
     "text": [
      "hangar★★★\n"
     ]
    }
   ],
   "source": [
    "\n",
    "corsa = '★★🏳🏳♦🏳♦🏳🏳hangar★★★'  # hangar\n",
    "#corsa = '🏳🏳bimotore'       # bimotore\n",
    "#corsa = '-★♦--♦--747-🏳'     # 747-🏳\n",
    "#corsa = 'aliante'           # aliante\n",
    "#corsa = '__♦__🏳__♦_'       # non stampa niente\n",
    "\n",
    "# scrivi qui\n",
    "\n",
    "i = 0\n",
    "while i < len(corsa) and not (corsa[i].isalpha() or corsa[i].isdigit()):\n",
    "    i += 1\n",
    "print(corsa[i:])"
   ]
  },
  {
   "cell_type": "raw",
   "id": "cd4d4224",
   "metadata": {
    "format": "text/html"
   },
   "source": [
    "</div>"
   ]
  },
  {
   "cell_type": "code",
   "execution_count": 5,
   "metadata": {},
   "outputs": [],
   "source": [
    "\n",
    "corsa = '★★🏳🏳♦🏳♦🏳🏳hangar★★★'  # hangar\n",
    "#corsa = '🏳🏳bimotore'       # bimotore\n",
    "#corsa = '-★♦--♦--747-🏳'     # 747-🏳\n",
    "#corsa = 'aliante'           # aliante\n",
    "#corsa = '__♦__🏳__♦_'       # non stampa niente\n",
    "\n",
    "# scrivi qui\n",
    "\n"
   ]
  },
  {
   "cell_type": "markdown",
   "metadata": {},
   "source": [
    "## A4 deserto\n",
    "\n",
    "✪✪✪ Scrivi del codice che data una stringa `viaggio`, produce una lista con tutte le parole che _precedono_ le virgole.\n",
    "\n",
    "Esempio - dato:"
   ]
  },
  {
   "cell_type": "code",
   "execution_count": 6,
   "metadata": {},
   "outputs": [],
   "source": [
    "viaggio = \"Attraversarono deserti, guadarono fiumi, si inerpicarono sui monti, e infine arrivarono al Tempio\""
   ]
  },
  {
   "cell_type": "markdown",
   "metadata": {},
   "source": [
    "il tuo codice deve produrre:\n",
    "\n",
    "```python\n",
    "['deserti', 'fiumi', 'monti']\n",
    "```"
   ]
  },
  {
   "cell_type": "raw",
   "id": "1e894b12",
   "metadata": {
    "format": "text/html"
   },
   "source": [
    "<a  class=\"jupman-sol jupman-sol-toggler\" \n",
    " onclick=\"jupman.toggleSolution(this);\" \n",
    " data-jupman-show=\"Mostra soluzione\" data-jupman-hide=\"Nascondi\">Mostra soluzione</a><div class=\"jupman-sol jupman-sol-code\" style=\"display:none\">  "
   ]
  },
  {
   "cell_type": "code",
   "execution_count": 7,
   "metadata": {},
   "outputs": [
    {
     "data": {
      "text/plain": [
       "['deserti', 'fiumi', 'monti']"
      ]
     },
     "execution_count": 7,
     "metadata": {},
     "output_type": "execute_result"
    }
   ],
   "source": [
    "viaggio = \"Attraversarono deserti, guadarono fiumi, si inerpicarono sui monti, e infine arrivarono al Tempio\"\n",
    "# ['deserti', 'fiumi', 'monti']\n",
    "#viaggio = \"Camminarono con fatica tra le strade,i mercati affollati, le viuzze,i portici, finchè trovarono la cattedrale.\"\n",
    "# ['strade', 'affollati', 'viuzze', 'portici']\n",
    "#viaggio = \"Il viaggio terminò.\" \n",
    "# []\n",
    "\n",
    "# scrivi qui\n",
    "parole = viaggio.split(',')\n",
    "\n",
    "res = []\n",
    "\n",
    "for frase in parole[:-1]:\n",
    "    res.append(frase.split()[-1])\n",
    "res"
   ]
  },
  {
   "cell_type": "raw",
   "id": "f7953177",
   "metadata": {
    "format": "text/html"
   },
   "source": [
    "</div>"
   ]
  },
  {
   "cell_type": "code",
   "execution_count": 7,
   "metadata": {},
   "outputs": [
    {
     "data": {
      "text/plain": [
       "['deserti', 'fiumi', 'monti']"
      ]
     },
     "execution_count": 7,
     "metadata": {},
     "output_type": "execute_result"
    }
   ],
   "source": [
    "viaggio = \"Attraversarono deserti, guadarono fiumi, si inerpicarono sui monti, e infine arrivarono al Tempio\"\n",
    "# ['deserti', 'fiumi', 'monti']\n",
    "#viaggio = \"Camminarono con fatica tra le strade,i mercati affollati, le viuzze,i portici, finchè trovarono la cattedrale.\"\n",
    "# ['strade', 'affollati', 'viuzze', 'portici']\n",
    "#viaggio = \"Il viaggio terminò.\" \n",
    "# []\n",
    "\n",
    "# scrivi qui\n",
    "\n"
   ]
  },
  {
   "cell_type": "code",
   "execution_count": null,
   "metadata": {},
   "outputs": [],
   "source": []
  }
 ],
 "metadata": {
  "celltoolbar": "Edit Metadata",
  "kernelspec": {
   "display_name": "Python 3 (ipykernel)",
   "language": "python",
   "name": "python3"
  },
  "language_info": {
   "codemirror_mode": {
    "name": "ipython",
    "version": 3
   },
   "file_extension": ".py",
   "mimetype": "text/x-python",
   "name": "python",
   "nbconvert_exporter": "python",
   "pygments_lexer": "ipython3",
   "version": "3.7.10"
  },
  "toc": {
   "base_numbering": 1,
   "nav_menu": {},
   "number_sections": false,
   "sideBar": true,
   "skip_h1_title": false,
   "title_cell": "Table of Contents",
   "title_sidebar": "Contents",
   "toc_cell": false,
   "toc_position": {},
   "toc_section_display": true,
   "toc_window_display": true
  }
 },
 "nbformat": 4,
 "nbformat_minor": 1
}
