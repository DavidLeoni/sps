{
 "cells": [
  {
   "cell_type": "markdown",
   "metadata": {},
   "source": [
    "# Seminari Python @Sociologia"
   ]
  },
  {
   "cell_type": "raw",
   "metadata": {
    "raw_mimetype": "text/restructuredtext"
   },
   "source": [
    ".. meta::\n",
    "\n",
    "    :description: Sito del corso"
   ]
  },
  {
   "cell_type": "raw",
   "metadata": {
    "raw_mimetype": "text/latex"
   },
   "source": [
    "% Latex fixes, DO NOT DELETE THIS !!!!\n",
    "\n",
    "% need to demote chapters to sections because sphinx promotes them *just in the home* :-/\n",
    "% https://tex.stackexchange.com/questions/161259/macro-for-promoting-sections-to-chapters\n",
    "% for alternatives, see https://texfaq.org/FAQ-patch\n",
    "\n",
    "\\let\\truechapter\\chapter\n",
    "\\let\\truesection\\section\n",
    "\\let\\truesubsection\\subsection\n",
    "\\let\\truesubsubsection\\subsubsection\n",
    "\\let\\truethesection\\thesection\n",
    "\n",
    "\\let\\chapter\\truesection\n",
    "\\let\\section\\truesubsection\n",
    "% suspend number printing , according to   https://tex.stackexchange.com/a/80114\n",
    "\\renewcommand\\thesection{}\n",
    "\n",
    "\\truesection{About}"
   ]
  },
  {
   "cell_type": "raw",
   "metadata": {
    "raw_mimetype": "text/latex"
   },
   "source": [
    "% Latex: preface for book\n",
    "\n",
    "\\truesection{Preface}\n"
   ]
  },
  {
   "cell_type": "markdown",
   "metadata": {},
   "source": [
    "**Relatore** :    David Leoni     david.leoni@unitn.it\n",
    "\n",
    "**Docente proponente**: Ivano Bison\n",
    "\n",
    "**Edizione**: 2021 Marzo/Aprile/Maggio/Giugno\n",
    "\n",
    "**Sede**: Dipartimento di Sociologia e Ricerca Sociale, Università di Trento\n",
    "Via Giuseppe Verdi 26, Trento\n",
    "\n",
    "**Parte A**: [Locandina](https://www.sociologia.unitn.it/alfresco/download/workspace/SpacesStore/6c44e1d2-b612-44ba-8866-bdd9d910f840/Locandina%20%20BISON%20Python%20A%202021.pdf) | [VEDERE MOODLE](https://didatticaonline.unitn.it/dol/course/view.php?id=31189) (richiede account unitn)\n",
    "\n",
    "**Parte B**: [Locandina](https://www.sociologia.unitn.it/alfresco/download/workspace/SpacesStore/f320e38b-350c-4da4-a028-04cb24748c6b/Locandina%20BISON%20Python%20B%202021.pdf) | [VEDERE MOODLE](https://didatticaonline.unitn.it/dol/course/view.php?id=31865) (richiede account unitn)\n"
   ]
  },
  {
   "cell_type": "markdown",
   "metadata": {},
   "source": [
    "## Materiale\n",
    "\n",
    "Il materiale presente in questa pagina è stato tutto trasferito sul sito [softpython.it](https://softpython.it)\n",
    "\n",
    "Eventuali link a materiale non mio li trovate nella pagina [Riferimenti su SoftPython](https://it.softpython.org/references.html)\n"
   ]
  },
  {
   "cell_type": "markdown",
   "metadata": {},
   "source": [
    "## Quando\n",
    "\n",
    "Tipicamente i seminari si svolgono in primavera, possibilmente in presenza oppure online in caso di pandemie.\n",
    "\n",
    "Chi non potesse partecipare ai seminari, potrebbe essere interessato a iscriversi al modulo d’informatica della [summer school in data science](http://datascience.unitn.it/presentation/) (contatto: [supportostudentipovo@unitn.it](supportostudentipovo@unitn.it))\n"
   ]
  },
  {
   "cell_type": "markdown",
   "metadata": {},
   "source": [
    "## Esami passati"
   ]
  },
  {
   "cell_type": "raw",
   "metadata": {
    "raw_mimetype": "text/restructuredtext"
   },
   "source": [
    ".. toctree::\n",
    "    :maxdepth: 1\n",
    "    :glob:\n",
    "    :reversed:\n",
    "\n",
    "    exams/**/exam-*"
   ]
  },
  {
   "cell_type": "markdown",
   "metadata": {},
   "source": [
    "* 21 giugno 2019 (6 crediti) : [Risultati](http://davidleoni.it/etc/sps/exams/2019-06-21-public-grades.html) | [Correzioni](https://drive.google.com/open?id=14fE1RomyIkoTaxyzd4l_dfStF1UwSYcA) | [Testo + soluzioni](http://davidleoni.it/etc/sps/exams/2019-06-21-solutions.zip)\n",
    "* 5 giugno 2019 (6 crediti) : [Risultati](http://davidleoni.it/etc/sps/exams/2019-06-05-public-grades.html) | [Correzioni](https://drive.google.com/open?id=1q_4IQRFji2WVcdi-Wlm8S7ForpgxoiwS) | [Testo + soluzioni](http://davidleoni.it/etc/sps/exams/2019-06-05-solutions.zip)"
   ]
  },
  {
   "cell_type": "markdown",
   "metadata": {},
   "source": [
    "\n",
    "AA 2018/19: Vedere esami seminari [Fondamenti Python](https://docs.google.com/presentation/d/1r4iGiRPjUp9SfLFWrcUznCertVpmO5V9GvxfPkhFnG0/edit#slide=id.g36a9bc8e68_0_9) (3 crediti, corrisponde al primo modulo) e [Algoritmi Python 2018](https://docs.google.com/presentation/d/1I39iDR_F9TJ8VmnGfUtWZwnwNV4uFVCeRmqY0vl_PwE/edit#slide=id.g399504d837_0_17) (3 crediti, corrisponde al secondo modulo). Differenze con anno corrente:\n",
    "– l’esame sarà un po’ più difficile\n",
    "– nel primo modulo non ci saranno funzioni nè assert\n",
    "– nel secondo modulo ci saranno anche esercizi su Numpy e Pandas\n",
    "\n",
    "## Ricevimento\n",
    "\n",
    "Per orari / luoghi ricevimento, [vedere qui](http://davidleoni.it/office-hours/)\n",
    "\n",
    "Se per caso avete progetti in altri corsi o interesse personale per cui volete usare Python, sono disponibile a dare indicazioni.\n",
    "\n",
    "In particolare, posso offrire aiuto per\n",
    "\n",
    "- Installazione\n",
    "- Comandi Python base\n",
    "- Errori logici\n",
    "- Lettura / conversione dati\n",
    "- Formati (CSV / JSON / XML / HTML)\n",
    "- Cercare dataset\n",
    "- Tutorial\n",
    "- Licenze dati & software\n",
    "\n",
    "Difficile aiutare per\n",
    "\n",
    "- librerie particolari\n",
    "- statistiche avanzate\n",
    "- visualizzazioni incredibili in 3d"
   ]
  },
  {
   "cell_type": "raw",
   "metadata": {
    "raw_mimetype": "text/latex"
   },
   "source": [
    "% Latex: fix for book structure\n",
    "\n",
    "\\let\\thesection\\truethesection\n",
    "\\truechapter{Overview}\n"
   ]
  },
  {
   "cell_type": "raw",
   "metadata": {
    "raw_mimetype": "text/latex"
   },
   "source": [
    "% Latex: Restores all the previous substitutions \n",
    "% DO NOT DELETE THIS !!!!\n",
    " \n",
    "\\let\\chapter\\truechapter\n",
    "\\let\\section\\truesection\n",
    "\\let\\subsection\\truesubsection\n",
    "\\let\\subsubsection\\truesubsubsection\n"
   ]
  }
 ],
 "metadata": {
  "celltoolbar": "Raw Cell Format",
  "kernelspec": {
   "display_name": "Python 3",
   "language": "python",
   "name": "python3"
  },
  "language_info": {
   "codemirror_mode": {
    "name": "ipython",
    "version": 3
   },
   "file_extension": ".py",
   "mimetype": "text/x-python",
   "name": "python",
   "nbconvert_exporter": "python",
   "pygments_lexer": "ipython3",
   "version": "3.7.10"
  },
  "toc": {
   "base_numbering": 1,
   "nav_menu": {},
   "number_sections": false,
   "sideBar": true,
   "skip_h1_title": false,
   "title_cell": "Table of Contents",
   "title_sidebar": "Contents",
   "toc_cell": false,
   "toc_position": {},
   "toc_section_display": true,
   "toc_window_display": false
  }
 },
 "nbformat": 4,
 "nbformat_minor": 2
}
