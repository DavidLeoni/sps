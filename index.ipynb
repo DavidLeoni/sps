{
 "cells": [
  {
   "cell_type": "markdown",
   "metadata": {},
   "source": [
    "# Seminari Python @Sociologia"
   ]
  },
  {
   "cell_type": "raw",
   "metadata": {
    "raw_mimetype": "text/restructuredtext"
   },
   "source": [
    ".. meta::\n",
    "\n",
    "    :description: Template manager for course websites made with Jupyter notebooks and NBSphinx doc generator.        "
   ]
  },
  {
   "cell_type": "raw",
   "metadata": {
    "raw_mimetype": "text/latex"
   },
   "source": [
    "% Latex fixes, DO NOT DELETE THIS !!!!\n",
    "\n",
    "% need to demote chapters to sections because sphinx promotes them *just in the home* :-/\n",
    "% https://tex.stackexchange.com/questions/161259/macro-for-promoting-sections-to-chapters\n",
    "% for alternatives, see https://texfaq.org/FAQ-patch\n",
    "\n",
    "\\let\\truechapter\\chapter\n",
    "\\let\\truesection\\section\n",
    "\\let\\truesubsection\\subsection\n",
    "\\let\\truesubsubsection\\subsubsection\n",
    "\\let\\truethesection\\thesection\n",
    "\n",
    "\\let\\chapter\\truesection\n",
    "\\let\\section\\truesubsection\n",
    "% suspend number printing , according to   https://tex.stackexchange.com/a/80114\n",
    "\\renewcommand\\thesection{}\n",
    "\n",
    "\\truesection{About}"
   ]
  },
  {
   "cell_type": "markdown",
   "metadata": {},
   "source": [
    "**A template for online books made with** [Jupyter](http://jupyter.org) **notebooks and** [NBSphinx](http://nbsphinx.readthedocs.io/) **doc generator**."
   ]
  },
  {
   "cell_type": "raw",
   "metadata": {
    "raw_mimetype": "text/html"
   },
   "source": [
    "<!-- HTML download links -->\n",
    "\n",
    " Download: &nbsp;&nbsp; <a href=\"https://jupman.softpython.org/en/latest/jupman.pdf\" target=\"_blank\">PDF</a>\n",
    "           &nbsp;&nbsp; <a href=\"https://jupman.softpython.org/en/latest/jupman.epub\" target=\"_blank\"> EPUB </a>\n",
    "           &nbsp;&nbsp; <a href=\"https://github.com/DavidLeoni/jupman/archive/gh-pages.zip\" target=\"_blank\"> HTML </a>\n",
    "           &nbsp;&nbsp; <a href=\"https://github.com/DavidLeoni/jupman\" target=\"_blank\"> Github </a>\n",
    " <br/>\n",
    " <br/>"
   ]
  },
  {
   "cell_type": "raw",
   "metadata": {
    "raw_mimetype": "text/latex"
   },
   "source": [
    "% Latex: preface for book\n",
    "\n",
    "\\truesection{Preface}\n",
    "\n",
    "This book is the result of ... We thank this and that ...\n"
   ]
  },
  {
   "cell_type": "markdown",
   "metadata": {},
   "source": [
    "## Revisions\n",
    "\n",
    "* **16 October 2020**: Released v3.2\n",
    "\n",
    "* **16 January 2020**: Released v3.1\n",
    "\n",
    "* **29 December 2019**: Released v3.0\n",
    "\n",
    "* **24 September 2018**: Released v2.0\n",
    "\n",
    "* **3 August 2018**: Released v0.8\n",
    "\n",
    "* [Change log](changelog.md)"
   ]
  },
  {
   "cell_type": "raw",
   "metadata": {
    "raw_mimetype": "text/latex"
   },
   "source": [
    "% Latex: fix for book structure\n",
    "\n",
    "\\let\\thesection\\truethesection\n",
    "\\truechapter{Overview}\n"
   ]
  },
  {
   "cell_type": "markdown",
   "metadata": {},
   "source": [
    "## Contents\n",
    "\n",
    "1.  [JUPMAN USAGE](usage.ipynb)\n",
    "1.  Chapter examples\n",
    "    1. [Python example](python-example/python-example.ipynb)\n",
    "    1. [Jupyter example](jupyter-example/jupyter-example-sol.ipynb)\n",
    "    1. [Jupyter and python example](jup-and-py-example/jup-and-py-example-sol.ipynb)    \n",
    "    1. [Challenge example solution](challenge-example/example-chal-sol.ipynb)\n",
    "    1. [Challenge example](challenge-example/example-chal.ipynb)\n",
    "1. Templates\n",
    "    1. [Past exams](past-exams.ipynb)\n",
    "    1. [Changelog](changelog.md)"
   ]
  },
  {
   "cell_type": "markdown",
   "metadata": {},
   "source": [
    "\n",
    "## Credits\n",
    "\n",
    "* This site was made  with Jupyter using [NBSphinx extension](http://nbsphinx.readthedocs.io/) and [Jupman template](http://jupman.readthedocs.io/)."
   ]
  },
  {
   "cell_type": "raw",
   "metadata": {
    "raw_mimetype": "text/latex"
   },
   "source": [
    "% Latex: Restores all the previous substitutions \n",
    "% DO NOT DELETE THIS !!!!\n",
    " \n",
    "\\let\\chapter\\truechapter\n",
    "\\let\\section\\truesection\n",
    "\\let\\subsection\\truesubsection\n",
    "\\let\\subsubsection\\truesubsubsection\n"
   ]
  }
 ],
 "metadata": {
  "celltoolbar": "Raw Cell Format",
  "kernelspec": {
   "display_name": "Python 3",
   "language": "python",
   "name": "python3"
  },
  "language_info": {
   "codemirror_mode": {
    "name": "ipython",
    "version": 3
   },
   "file_extension": ".py",
   "mimetype": "text/x-python",
   "name": "python",
   "nbconvert_exporter": "python",
   "pygments_lexer": "ipython3",
   "version": "3.7.10"
  },
  "toc": {
   "base_numbering": 1,
   "nav_menu": {},
   "number_sections": false,
   "sideBar": true,
   "skip_h1_title": false,
   "title_cell": "Table of Contents",
   "title_sidebar": "Contents",
   "toc_cell": false,
   "toc_position": {},
   "toc_section_display": true,
   "toc_window_display": false
  }
 },
 "nbformat": 4,
 "nbformat_minor": 2
}
