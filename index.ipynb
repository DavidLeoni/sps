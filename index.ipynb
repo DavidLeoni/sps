{
 "cells": [
  {
   "cell_type": "markdown",
   "metadata": {},
   "source": [
    "# Seminari Python @Sociologia"
   ]
  },
  {
   "cell_type": "raw",
   "metadata": {
    "raw_mimetype": "text/restructuredtext"
   },
   "source": [
    ".. meta::\n",
    "\n",
    "    :description: Sito del corso"
   ]
  },
  {
   "cell_type": "raw",
   "metadata": {
    "raw_mimetype": "text/latex"
   },
   "source": [
    "% Latex fixes, DO NOT DELETE THIS !!!!\n",
    "\n",
    "% need to demote chapters to sections because sphinx promotes them *just in the home* :-/\n",
    "% https://tex.stackexchange.com/questions/161259/macro-for-promoting-sections-to-chapters\n",
    "% for alternatives, see https://texfaq.org/FAQ-patch\n",
    "\n",
    "\\let\\truechapter\\chapter\n",
    "\\let\\truesection\\section\n",
    "\\let\\truesubsection\\subsection\n",
    "\\let\\truesubsubsection\\subsubsection\n",
    "\\let\\truethesection\\thesection\n",
    "\n",
    "\\let\\chapter\\truesection\n",
    "\\let\\section\\truesubsection\n",
    "% suspend number printing , according to   https://tex.stackexchange.com/a/80114\n",
    "\\renewcommand\\thesection{}\n",
    "\n",
    "\\truesection{About}"
   ]
  },
  {
   "cell_type": "raw",
   "metadata": {
    "raw_mimetype": "text/latex"
   },
   "source": [
    "% Latex: preface for book\n",
    "\n",
    "\\truesection{Preface}\n"
   ]
  },
  {
   "cell_type": "markdown",
   "metadata": {},
   "source": [
    "**Relatore** :    David Leoni     david.leoni@unitn.it\n",
    "\n",
    "**Docente proponente**: Ivano Bison\n",
    "\n",
    "**Edizione**: 2021 Marzo/Aprile/Maggio/Giugno\n",
    "\n",
    "**Sede**: Dipartimento di Sociologia e Ricerca Sociale, Università di Trento\n",
    "Via Giuseppe Verdi 26, Trento\n",
    "\n",
    "**Parte A**: [Locandina](https://www.sociologia.unitn.it/alfresco/download/workspace/SpacesStore/6c44e1d2-b612-44ba-8866-bdd9d910f840/Locandina%20%20BISON%20Python%20A%202021.pdf) | [VEDERE MOODLE](https://didatticaonline.unitn.it/dol/course/view.php?id=31189) (richiede account unitn)\n",
    "\n",
    "**Parte B**: [Locandina](https://www.sociologia.unitn.it/alfresco/download/workspace/SpacesStore/f320e38b-350c-4da4-a028-04cb24748c6b/Locandina%20BISON%20Python%20B%202021.pdf) | [VEDERE MOODLE](https://didatticaonline.unitn.it/dol/course/view.php?id=31865) (richiede account unitn)\n"
   ]
  },
  {
   "cell_type": "markdown",
   "metadata": {},
   "source": [
    "## Materiale\n",
    "\n",
    "Il materiale presente in questa pagina è stato tutto trasferito sul sito [softpython.it](https://softpython.it)\n",
    "\n",
    "Eventuali link a materiale non mio li trovate nella pagina [Riferimenti su SoftPython](https://it.softpython.org/references.html)\n"
   ]
  },
  {
   "cell_type": "markdown",
   "metadata": {},
   "source": [
    "## Quando\n",
    "\n",
    "Tipicamente i seminari si svolgono in primavera, possibilmente in presenza oppure online in caso di pandemie.\n",
    "\n",
    "Chi non potesse partecipare ai seminari, potrebbe essere interessato a iscriversi al modulo d’informatica della [summer school in data science](http://datascience.unitn.it/presentation/) (contatto: [supportostudentipovo@unitn.it](supportostudentipovo@unitn.it))\n"
   ]
  },
  {
   "cell_type": "markdown",
   "metadata": {},
   "source": [
    "## Esami passati"
   ]
  },
  {
   "cell_type": "raw",
   "metadata": {
    "raw_mimetype": "text/restructuredtext"
   },
   "source": [
    ".. toctree::\n",
    "    :maxdepth: 1\n",
    "    :glob:\n",
    "    :reversed:\n",
    "\n",
    "    exams/**/exam-*"
   ]
  },
  {
   "cell_type": "markdown",
   "metadata": {},
   "source": [
    "* 21 giugno 2019 (6 crediti) : [Risultati](http://davidleoni.it/etc/sps/exams/2019-06-21-public-grades.html) | [Correzioni](https://drive.google.com/open?id=14fE1RomyIkoTaxyzd4l_dfStF1UwSYcA) | [Testo + soluzioni](http://davidleoni.it/etc/sps/exams/2019-06-21-solutions.zip)\n",
    "* 5 giugno 2019 (6 crediti) : [Risultati](http://davidleoni.it/etc/sps/exams/2019-06-05-public-grades.html) | [Correzioni](https://drive.google.com/open?id=1q_4IQRFji2WVcdi-Wlm8S7ForpgxoiwS) | [Testo + soluzioni](http://davidleoni.it/etc/sps/exams/2019-06-05-solutions.zip)"
   ]
  },
  {
   "cell_type": "markdown",
   "metadata": {},
   "source": [
    "\n",
    "AA 2018/19: Vedere esami seminari [Fondamenti Python](https://docs.google.com/presentation/d/1r4iGiRPjUp9SfLFWrcUznCertVpmO5V9GvxfPkhFnG0/edit#slide=id.g36a9bc8e68_0_9) (3 crediti, corrisponde al primo modulo) e [Algoritmi Python 2018](https://docs.google.com/presentation/d/1I39iDR_F9TJ8VmnGfUtWZwnwNV4uFVCeRmqY0vl_PwE/edit#slide=id.g399504d837_0_17) (3 crediti, corrisponde al secondo modulo). Differenze con anno corrente:\n",
    "– l’esame sarà un po’ più difficile\n",
    "– nel primo modulo non ci saranno funzioni nè assert\n",
    "– nel secondo modulo ci saranno anche esercizi su Numpy e Pandas"
   ]
  },
  {
   "cell_type": "markdown",
   "metadata": {},
   "source": [
    "## Appelli\n",
    "\n",
    "Per ciascun seminario (modulo 1 e 2), avete a disposizione **due appelli**:\n",
    "\n",
    "-  **Venerdì 16 aprile 2021  9:00-12:00  (modulo 1)**\n",
    "-  **Lunedì  31 maggio 2021  15:00-18:00  (modulo 1 o 2)**\n",
    "-  **Lunedì 14 Giugno 2021 9:00-12:00  (modulo 1 o 2)**\n",
    "-  **Lunedì 28 Giugno 2021 9:00-12:00  (modulo 1 o 2)**\n",
    "\n",
    "Ricordo che **l'ultima lezione del Modulo 2 sarà venerdì 28 maggio 9:00-12:00**, in cui faremo anche del **testing** del sistema per scongiurare problemi tecnici.\n",
    "\n",
    "**Prenotazione**: entro una settimana prima dell'appello mandate mail a [david.leoni@unitn.it](david.leoni@unitn.it) indicando quale parte volete dare.\n",
    "\n",
    "Gli appelli concessi per parte sono due perchè gli studenti che mi chiedono il terzo appello di solito sono anche quelli che arrivano ai primi due e palesemente non hanno alcuna idea di come si scriva un programma. Esercizi da fare ne avete e sicuramente anche un cronometro,  quindi penso potete ben valutare da voi quando è il caso di presentarsi. Per dare un idea, mi aspetto che per ciascuno esercizio di difficoltà tre stelle su SoftPython ci mettiate max 30 min. Vedere anche sezione [esami passati](#Esami-passati) sul mio sito.\n",
    "\n",
    "Per entrambe le parti vi chiederò di implementare del codice, per il quale riceverete un voto in base alla percentuale di correttezza. Se qualcosa non funziona in qualche linea, sentitivi liberi di metterci prima una print. Questa seconda parte sarà open book, se volete potete usare stampe del materiale e le slide del corso, più la documentazione ufficiale di Python 3.\n",
    "\n",
    "**Editor:** Come editor per l'esame, useremo Jupyter."
   ]
  },
  {
   "cell_type": "markdown",
   "metadata": {},
   "source": [
    "**Precondizione esame modulo 1:**  Per affrontarlo decentemente **dovete** aver capito la teoria. A tal proposito, in SoftPython ci sono una quantità spropositata di sezioni intitolate 'Domande' ([esempio](https://it.softpython.org/sequences/sequences-sol.html#Domande-list-comprehension)) tipo \"Guarda i seguenti frammenti di codice, e per ciascuno cerca di indovinare quale risultato produce (o se da errore)\". Non sono lì a caso: le ho aggiunte perchè ho notato che molto spesso ci si porta all'esame dubbi che poi risultano in tempi lunghissimi passati a debuggare il codice. Il modo corretto per rispondere a quelle domande è prima scrivere (**scrivere con le dita, non pensare!**) da qualche parte quello che ritenete sia il risultato che verrà prodotto, e POI provare ad eseguire il codice per sincerarsi che il risultato pensato sia corretto. Per quanto semplici possano sembrare, vi garantisco che avrete parecchie sorprese.\n",
    "\n",
    "**Se fallite UNA volta il modulo 1**, potrete ridarlo successivamente, quel giorno mi comunicherete se vorrete dare il modulo 1 o il modulo 2, vi darò testi diversi a seconda della risposta. Se decidete l'esame del modulo 2 e lo passate vi riconoscerò i crediti anche per il modulo 1 (posto che foste iscritti al seminario corrispondente). **NOTA**: se non avete capito bene il materiale del modulo 1, vi garantisco che non riuscirete a passare il modulo 2!\n",
    "\n",
    "**Se fallite DUE volte il modulo 1**: non riceverete alcun credito e non potrete dare l'esame per il secondo modulo."
   ]
  },
  {
   "cell_type": "markdown",
   "metadata": {},
   "source": [
    "**Precondizione esame modulo 2**:  per affrontarlo serenamente dovrete aver capito bene il primo modulo, per cui se non avete ottenuto risultati soddisfacenti al primo appello, dovrete darvi una mossa!\n",
    "\n",
    "**Se vi prenotate ad un appello e non vi presentate:**  prenderete 0 per quell'appello, che verrà scalato dagli appelli disponibili. Per essere chiari, non accetto scuse: se vi è atterrato un asteroide sul condominio, vi prendete 0 lo stesso.\n",
    "\n",
    "**Appelli extra / orali / etc:**   se siete a corto di appelli, potete provare a supplicarmi: se siete **fortunati**, potrei concedervi l'appello extra. Se siete **sfortunati**, potrei avere altri impegni e non essere in grado di donarvi il mio tempo, al che vi consiglierò di provare a fare i due moduli d'informatica alla [summerschool](http://datascience.unitn.it/presentation/) in data science questa estate. Sono tenuti dal sottoscritto, con medesimi contenuti e divisi in 3 crediti ciascuno."
   ]
  },
  {
   "cell_type": "markdown",
   "metadata": {},
   "source": [
    "## Istruzioni per esame\n",
    "\n",
    "Tecnicamente, vi connetterete da casa vostra col vostro computer  ad un pc che sta nei laboratori di Povo, usando il client VMWare Horizon. Poi userete il vostro smartphone per riprendere voi e lo schermo del vostro pc.\n",
    "\n",
    "**PRIMA DELLA SESSIONE**: installate il client VMWare Horizon -> [SCARICA](https://my.vmware.com/en/web/vmware/downloads/info/slug/desktop_end_user_computing/vmware_horizon_clients/horizon_8)\n",
    "\n",
    "**QUANDO VI UNITE A ZOOM**:  seguite la procedura riportata qui sotto:\n",
    "\n",
    "1. Mettete il VOSTRO SMARTPHONE in una posizione per visualizzare voi e lo schermo durante l'esame.\n",
    "    NOTA: lo schermo si deve vedere bene.\n",
    "\n",
    "2. Connettete ENTRAMBI i vostri dispositivi al seguente link zoom (disponibile 30 minuti prima dell' esame):\n",
    "    \n",
    "    Il link apparirà sul Moodle del corso in alto 2 giorni prima dell'esame\n",
    "\n",
    "3. Rinominate i vostri utenti in Zoom in modo che sia chiaro il vostro nome e che dispositivo state usando (es Leoni Desktop e Leoni Cel). Per farlo, nella pannello Partecipanti mettete il mouse sul vostro nome, apparirà un bottone blue con scritto More, cliccatelo e vedere l'opzione Rename\n",
    "\n",
    "4. Aprite il **CLIENT** VMWare Horizon che avete installato (**NON il browser!**)\n",
    "5. **Con il client** connettetevi a:      `https://secureview.unitn.it` usando le credenziali universitarie.  \n",
    "    - **NON cercate di aprire il link nel browser**, dovete inserirlo nel client !!\n",
    "6. cliccate su Esame Povo:\n",
    "    Questo vi connetterà ad un pc del laboratorio dove potrete usare Jupyter nella finestra che si aprirà."
   ]
  },
  {
   "cell_type": "markdown",
   "metadata": {},
   "source": [
    "**DURANTE LA SESSIONE:**\n",
    "\n",
    "1. Evitate di muovere lo smartphone tranne che sia strettamente necessario, o se ricevete istruzioni al riguardo. Da adesso in poi potete dimenticarvi del vostro device portatile e della connessione zoom sul device.\n",
    "2. Seguite le istruzioni che vi diremo\n",
    "\n",
    "3. Se doveste avere delle domande, usate il bottone \"Alza la mano\" nel pannello dei Partecipanti per richiamare la nostra attenzione (nell'applicazione Zoom sul vostro PC). Quando qualcuno sarà disponibile, una breakout room sarà creata dove vi sarà richiesto di entrare. Questo vi permetterà di temporaneamente lasciare il meeting zoom comune e raggiungere una stanza specifica dove trovere qualcuno che risponderà alla vostra questione. Nella stanza di breakout potrete  in caso di necessitàcondividere il vostro schermo (usando il bottone Mostra schermo nel pannello inferiore di Zoom). IMPORTANTE:  QUANDO LASCIATE LA BREAKOUT ROOM CLICCATE SU \"LASCIA BREAKOUT ROOM\" E NON su \"Lascia il meeting\" altrimenti vi disconnetterete dal meeting e INVALIDERETE IL VOSTRO ESAME.\n",
    "Per ulteriori domande, non esitate a contattarci."
   ]
  },
  {
   "cell_type": "markdown",
   "metadata": {},
   "source": [
    "## Ricevimento\n",
    "\n",
    "Per orari / luoghi ricevimento, [vedere qui](http://davidleoni.it/office-hours/)\n",
    "\n",
    "Se per caso avete progetti in altri corsi o interesse personale per cui volete usare Python, sono disponibile a dare indicazioni.\n",
    "\n",
    "In particolare, posso offrire aiuto per\n",
    "\n",
    "- Installazione\n",
    "- Comandi Python base\n",
    "- Errori logici\n",
    "- Lettura / conversione dati\n",
    "- Formati (CSV / JSON / XML / HTML)\n",
    "- Cercare dataset\n",
    "- Tutorial\n",
    "- Licenze dati & software\n",
    "\n",
    "Difficile aiutare per\n",
    "\n",
    "- librerie particolari\n",
    "- statistiche avanzate\n",
    "- visualizzazioni incredibili in 3d"
   ]
  },
  {
   "cell_type": "raw",
   "metadata": {
    "raw_mimetype": "text/latex"
   },
   "source": [
    "% Latex: fix for book structure\n",
    "\n",
    "\\let\\thesection\\truethesection\n",
    "\\truechapter{Overview}\n"
   ]
  },
  {
   "cell_type": "raw",
   "metadata": {
    "raw_mimetype": "text/latex"
   },
   "source": [
    "% Latex: Restores all the previous substitutions \n",
    "% DO NOT DELETE THIS !!!!\n",
    " \n",
    "\\let\\chapter\\truechapter\n",
    "\\let\\section\\truesection\n",
    "\\let\\subsection\\truesubsection\n",
    "\\let\\subsubsection\\truesubsubsection\n"
   ]
  }
 ],
 "metadata": {
  "celltoolbar": "Raw Cell Format",
  "kernelspec": {
   "display_name": "Python 3",
   "language": "python",
   "name": "python3"
  },
  "language_info": {
   "codemirror_mode": {
    "name": "ipython",
    "version": 3
   },
   "file_extension": ".py",
   "mimetype": "text/x-python",
   "name": "python",
   "nbconvert_exporter": "python",
   "pygments_lexer": "ipython3",
   "version": "3.7.10"
  },
  "toc": {
   "base_numbering": 1,
   "nav_menu": {},
   "number_sections": false,
   "sideBar": true,
   "skip_h1_title": false,
   "title_cell": "Table of Contents",
   "title_sidebar": "Contents",
   "toc_cell": false,
   "toc_position": {},
   "toc_section_display": true,
   "toc_window_display": true
  }
 },
 "nbformat": 4,
 "nbformat_minor": 2
}
