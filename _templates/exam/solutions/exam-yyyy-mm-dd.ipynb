{
 "cells": [
  {
   "cell_type": "code",
   "execution_count": 6,
   "metadata": {
    "nbsphinx": "hidden"
   },
   "outputs": [
    {
     "name": "stdout",
     "output_type": "stream",
     "text": [
      "Free mem: 4043 MB  Limiting to: 2021 MB\n"
     ]
    }
   ],
   "source": [
    "#jupman-purge-output\n",
    "#RICORDATI DI ESEGUIRE QUESTA CELLA!\n",
    "import sys;\n",
    "sys.path.append('../../../'); \n",
    "import jupman;\n",
    "jupman.mem_limit()"
   ]
  },
  {
   "cell_type": "markdown",
   "metadata": {},
   "source": [
    "# Esame _JM_{exam.date_human}\n",
    "\n",
    "**_JM_{conf.jm.course} - _JM_{conf.jm.degree}**\n",
    "\n",
    "<!-- ## [Scarica](../../../_static/generated/_JM_{conf.jm.filename}-_JM_{exam.date}-exam.zip) esercizi e soluzioni -->"
   ]
  },
  {
   "cell_type": "markdown",
   "metadata": {},
   "source": [
    "## Modulo A\n",
    "\n",
    "## A.1 Esercizio - ciao\n",
    "\n",
    "✪ bla bla"
   ]
  },
  {
   "cell_type": "markdown",
   "metadata": {},
   "source": [
    "## Modulo B\n",
    "\n",
    "## B.1 Esercizio - ciao\n",
    "\n",
    "✪ bla bla"
   ]
  },
  {
   "cell_type": "code",
   "execution_count": null,
   "metadata": {},
   "outputs": [],
   "source": []
  }
 ],
 "metadata": {
  "celltoolbar": "Edit Metadata",
  "kernelspec": {
   "display_name": "Python 3",
   "language": "python",
   "name": "python3"
  },
  "language_info": {
   "codemirror_mode": {
    "name": "ipython",
    "version": 3
   },
   "file_extension": ".py",
   "mimetype": "text/x-python",
   "name": "python",
   "nbconvert_exporter": "python",
   "pygments_lexer": "ipython3",
   "version": "3.7.10"
  },
  "toc": {
   "base_numbering": 1,
   "nav_menu": {},
   "number_sections": false,
   "sideBar": true,
   "skip_h1_title": false,
   "title_cell": "Table of Contents",
   "title_sidebar": "Contents",
   "toc_cell": false,
   "toc_position": {},
   "toc_section_display": true,
   "toc_window_display": true
  }
 },
 "nbformat": 4,
 "nbformat_minor": 1
}
